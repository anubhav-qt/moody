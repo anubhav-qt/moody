{
  "cells": [
    {
      "cell_type": "code",
      "id": "7f66f5d4c7f89bbf",
      "metadata": {
        "ExecuteTime": {
          "end_time": "2025-03-30T09:55:50.918190Z",
          "start_time": "2025-03-30T09:55:50.914963Z"
        },
        "id": "7f66f5d4c7f89bbf"
      },
      "source": [
        "# Analysing a dataset\n",
        "import pandas as pd\n",
        "import numpy as np\n",
        "import matplotlib.pyplot as plt\n",
        "import seaborn as sns"
      ],
      "outputs": [],
      "execution_count": 2
    },
    {
      "cell_type": "code",
      "id": "761fd5a3cf0afc81",
      "metadata": {
        "ExecuteTime": {
          "end_time": "2025-03-30T09:55:52.493820Z",
          "start_time": "2025-03-30T09:55:52.485370Z"
        },
        "colab": {
          "base_uri": "https://localhost:8080/"
        },
        "id": "761fd5a3cf0afc81",
        "outputId": "228bc529-9a98-471a-a5f2-a042cf68754e"
      },
      "source": [
        "import glob\n",
        "import os\n",
        "import json\n",
        "\n",
        "# Find all JSON files in the data directory\n",
        "json_files = glob.glob(os.path.join('data', 'mpd.slice.*.json'))\n",
        "print(f\"Found {len(json_files)} JSON files in the data directory\")\n",
        "\n",
        "# Preview the first few file names\n",
        "for i, file in enumerate(sorted(json_files)[:5]):\n",
        "    print(f\"{i+1}. {file}\")\n",
        "if len(json_files) > 5:\n",
        "    print(\"...\")"
      ],
      "outputs": [
        {
          "output_type": "stream",
          "name": "stdout",
          "text": [
            "Found 0 JSON files in the data directory\n"
          ]
        }
      ],
      "execution_count": 3
    },
    {
      "cell_type": "code",
      "id": "93403703f629a725",
      "metadata": {
        "ExecuteTime": {
          "end_time": "2025-03-30T09:55:55.061341Z",
          "start_time": "2025-03-30T09:55:55.055439Z"
        },
        "id": "93403703f629a725"
      },
      "source": [
        "from tqdm import tqdm\n",
        "\n",
        "def process_json_dir_to_csv(input_dir, output_csv, chunk_size=5):\n",
        "    # Get all JSON files in the directory\n",
        "    json_files = [os.path.join(input_dir, f) for f in os.listdir(input_dir)\n",
        "                 if f.endswith('.json')]\n",
        "\n",
        "    if not json_files:\n",
        "        print(f\"No JSON files found in directory: {input_dir}\")\n",
        "        return\n",
        "\n",
        "    # Sort files to ensure consistent processing order\n",
        "    json_files.sort()\n",
        "\n",
        "    # Process the first file to get the header and initialize the CSV file\n",
        "    with open(json_files[0], 'r', encoding='utf-8') as f:\n",
        "        data = json.load(f)\n",
        "        playlists = data['playlists']\n",
        "\n",
        "    # Create DataFrame from the first file and write it to CSV with header\n",
        "    df = pd.DataFrame(playlists)\n",
        "    df.to_csv(output_csv, index=False, mode='w')\n",
        "    print(f\"Created CSV file and wrote header with {len(df)} rows\")\n",
        "\n",
        "    # Process remaining files in chunks to manage memory\n",
        "    for i in tqdm(range(1, len(json_files), chunk_size), desc=\"Processing files\"):\n",
        "        # Process a chunk of files\n",
        "        chunk_playlists = []\n",
        "        for j in range(i, min(i + chunk_size, len(json_files))):\n",
        "            try:\n",
        "                with open(json_files[j], 'r', encoding='utf-8') as f:\n",
        "                    data = json.load(f)\n",
        "                    chunk_playlists.extend(data['playlists'])\n",
        "            except Exception as e:\n",
        "                print(f\"Error processing {json_files[j]}: {str(e)}\")\n",
        "\n",
        "        # Create DataFrame from chunk and append to CSV\n",
        "        if chunk_playlists:\n",
        "            chunk_df = pd.DataFrame(chunk_playlists)\n",
        "            chunk_df.to_csv(output_csv, index=False, mode='a', header=False)\n",
        "            print(f\"Appended {len(chunk_df)} rows to CSV\")\n",
        "\n",
        "            # Free memory\n",
        "            del chunk_df\n",
        "            del chunk_playlists\n",
        "\n",
        "    print(f\"Processing complete. Output saved to {output_csv}\")"
      ],
      "outputs": [],
      "execution_count": null
    },
    {
      "metadata": {
        "ExecuteTime": {
          "end_time": "2025-03-30T09:49:37.216987Z",
          "start_time": "2025-03-30T09:41:31.152328Z"
        },
        "id": "413cc0394930694b",
        "outputId": "6ac02256-fe97-4a6c-d7ea-f79d5dc8a911"
      },
      "cell_type": "code",
      "source": [
        "process_json_dir_to_csv(\"C:\\\\Users\\\\ANUBHAV\\\\Desktop\\\\FDS Lab\\\\Moody\\\\data\", \"playlists.csv\")"
      ],
      "id": "413cc0394930694b",
      "outputs": [
        {
          "name": "stdout",
          "output_type": "stream",
          "text": [
            "Created CSV file and wrote header with 1000 rows\n"
          ]
        },
        {
          "name": "stderr",
          "output_type": "stream",
          "text": [
            "Processing files:   0%|          | 1/200 [00:02<08:12,  2.47s/it]"
          ]
        },
        {
          "name": "stdout",
          "output_type": "stream",
          "text": [
            "Appended 5000 rows to CSV\n"
          ]
        },
        {
          "name": "stderr",
          "output_type": "stream",
          "text": [
            "Processing files:   1%|          | 2/200 [00:04<07:58,  2.42s/it]"
          ]
        },
        {
          "name": "stdout",
          "output_type": "stream",
          "text": [
            "Appended 5000 rows to CSV\n"
          ]
        },
        {
          "name": "stderr",
          "output_type": "stream",
          "text": [
            "Processing files:   2%|▏         | 3/200 [00:07<07:55,  2.41s/it]"
          ]
        },
        {
          "name": "stdout",
          "output_type": "stream",
          "text": [
            "Appended 5000 rows to CSV\n"
          ]
        },
        {
          "name": "stderr",
          "output_type": "stream",
          "text": [
            "Processing files:   2%|▏         | 4/200 [00:09<07:51,  2.41s/it]"
          ]
        },
        {
          "name": "stdout",
          "output_type": "stream",
          "text": [
            "Appended 5000 rows to CSV\n"
          ]
        },
        {
          "name": "stderr",
          "output_type": "stream",
          "text": [
            "Processing files:   2%|▎         | 5/200 [00:12<07:52,  2.42s/it]"
          ]
        },
        {
          "name": "stdout",
          "output_type": "stream",
          "text": [
            "Appended 5000 rows to CSV\n"
          ]
        },
        {
          "name": "stderr",
          "output_type": "stream",
          "text": [
            "Processing files:   3%|▎         | 6/200 [00:14<07:48,  2.41s/it]"
          ]
        },
        {
          "name": "stdout",
          "output_type": "stream",
          "text": [
            "Appended 5000 rows to CSV\n"
          ]
        },
        {
          "name": "stderr",
          "output_type": "stream",
          "text": [
            "Processing files:   4%|▎         | 7/200 [00:16<07:45,  2.41s/it]"
          ]
        },
        {
          "name": "stdout",
          "output_type": "stream",
          "text": [
            "Appended 5000 rows to CSV\n"
          ]
        },
        {
          "name": "stderr",
          "output_type": "stream",
          "text": [
            "Processing files:   4%|▍         | 8/200 [00:19<07:40,  2.40s/it]"
          ]
        },
        {
          "name": "stdout",
          "output_type": "stream",
          "text": [
            "Appended 5000 rows to CSV\n"
          ]
        },
        {
          "name": "stderr",
          "output_type": "stream",
          "text": [
            "Processing files:   4%|▍         | 9/200 [00:21<07:36,  2.39s/it]"
          ]
        },
        {
          "name": "stdout",
          "output_type": "stream",
          "text": [
            "Appended 5000 rows to CSV\n"
          ]
        },
        {
          "name": "stderr",
          "output_type": "stream",
          "text": [
            "Processing files:   5%|▌         | 10/200 [00:24<07:35,  2.40s/it]"
          ]
        },
        {
          "name": "stdout",
          "output_type": "stream",
          "text": [
            "Appended 5000 rows to CSV\n"
          ]
        },
        {
          "name": "stderr",
          "output_type": "stream",
          "text": [
            "Processing files:   6%|▌         | 11/200 [00:26<07:32,  2.40s/it]"
          ]
        },
        {
          "name": "stdout",
          "output_type": "stream",
          "text": [
            "Appended 5000 rows to CSV\n"
          ]
        },
        {
          "name": "stderr",
          "output_type": "stream",
          "text": [
            "Processing files:   6%|▌         | 12/200 [00:28<07:29,  2.39s/it]"
          ]
        },
        {
          "name": "stdout",
          "output_type": "stream",
          "text": [
            "Appended 5000 rows to CSV\n"
          ]
        },
        {
          "name": "stderr",
          "output_type": "stream",
          "text": [
            "Processing files:   6%|▋         | 13/200 [00:31<07:26,  2.39s/it]"
          ]
        },
        {
          "name": "stdout",
          "output_type": "stream",
          "text": [
            "Appended 5000 rows to CSV\n"
          ]
        },
        {
          "name": "stderr",
          "output_type": "stream",
          "text": [
            "Processing files:   7%|▋         | 14/200 [00:33<07:22,  2.38s/it]"
          ]
        },
        {
          "name": "stdout",
          "output_type": "stream",
          "text": [
            "Appended 5000 rows to CSV\n"
          ]
        },
        {
          "name": "stderr",
          "output_type": "stream",
          "text": [
            "Processing files:   8%|▊         | 15/200 [00:35<07:21,  2.39s/it]"
          ]
        },
        {
          "name": "stdout",
          "output_type": "stream",
          "text": [
            "Appended 5000 rows to CSV\n"
          ]
        },
        {
          "name": "stderr",
          "output_type": "stream",
          "text": [
            "Processing files:   8%|▊         | 16/200 [00:38<07:20,  2.39s/it]"
          ]
        },
        {
          "name": "stdout",
          "output_type": "stream",
          "text": [
            "Appended 5000 rows to CSV\n"
          ]
        },
        {
          "name": "stderr",
          "output_type": "stream",
          "text": [
            "Processing files:   8%|▊         | 17/200 [00:40<07:18,  2.40s/it]"
          ]
        },
        {
          "name": "stdout",
          "output_type": "stream",
          "text": [
            "Appended 5000 rows to CSV\n"
          ]
        },
        {
          "name": "stderr",
          "output_type": "stream",
          "text": [
            "Processing files:   9%|▉         | 18/200 [00:43<07:15,  2.39s/it]"
          ]
        },
        {
          "name": "stdout",
          "output_type": "stream",
          "text": [
            "Appended 5000 rows to CSV\n"
          ]
        },
        {
          "name": "stderr",
          "output_type": "stream",
          "text": [
            "Processing files:  10%|▉         | 19/200 [00:45<07:12,  2.39s/it]"
          ]
        },
        {
          "name": "stdout",
          "output_type": "stream",
          "text": [
            "Appended 5000 rows to CSV\n"
          ]
        },
        {
          "name": "stderr",
          "output_type": "stream",
          "text": [
            "Processing files:  10%|█         | 20/200 [00:47<07:06,  2.37s/it]"
          ]
        },
        {
          "name": "stdout",
          "output_type": "stream",
          "text": [
            "Appended 5000 rows to CSV\n"
          ]
        },
        {
          "name": "stderr",
          "output_type": "stream",
          "text": [
            "Processing files:  10%|█         | 21/200 [00:50<07:02,  2.36s/it]"
          ]
        },
        {
          "name": "stdout",
          "output_type": "stream",
          "text": [
            "Appended 5000 rows to CSV\n"
          ]
        },
        {
          "name": "stderr",
          "output_type": "stream",
          "text": [
            "Processing files:  11%|█         | 22/200 [00:52<06:58,  2.35s/it]"
          ]
        },
        {
          "name": "stdout",
          "output_type": "stream",
          "text": [
            "Appended 5000 rows to CSV\n"
          ]
        },
        {
          "name": "stderr",
          "output_type": "stream",
          "text": [
            "Processing files:  12%|█▏        | 23/200 [00:54<06:53,  2.34s/it]"
          ]
        },
        {
          "name": "stdout",
          "output_type": "stream",
          "text": [
            "Appended 5000 rows to CSV\n"
          ]
        },
        {
          "name": "stderr",
          "output_type": "stream",
          "text": [
            "Processing files:  12%|█▏        | 24/200 [00:57<06:51,  2.34s/it]"
          ]
        },
        {
          "name": "stdout",
          "output_type": "stream",
          "text": [
            "Appended 5000 rows to CSV\n"
          ]
        },
        {
          "name": "stderr",
          "output_type": "stream",
          "text": [
            "Processing files:  12%|█▎        | 25/200 [00:59<06:48,  2.33s/it]"
          ]
        },
        {
          "name": "stdout",
          "output_type": "stream",
          "text": [
            "Appended 5000 rows to CSV\n"
          ]
        },
        {
          "name": "stderr",
          "output_type": "stream",
          "text": [
            "Processing files:  13%|█▎        | 26/200 [01:01<06:48,  2.35s/it]"
          ]
        },
        {
          "name": "stdout",
          "output_type": "stream",
          "text": [
            "Appended 5000 rows to CSV\n"
          ]
        },
        {
          "name": "stderr",
          "output_type": "stream",
          "text": [
            "Processing files:  14%|█▎        | 27/200 [01:04<06:48,  2.36s/it]"
          ]
        },
        {
          "name": "stdout",
          "output_type": "stream",
          "text": [
            "Appended 5000 rows to CSV\n"
          ]
        },
        {
          "name": "stderr",
          "output_type": "stream",
          "text": [
            "Processing files:  14%|█▍        | 28/200 [01:06<06:45,  2.36s/it]"
          ]
        },
        {
          "name": "stdout",
          "output_type": "stream",
          "text": [
            "Appended 5000 rows to CSV\n"
          ]
        },
        {
          "name": "stderr",
          "output_type": "stream",
          "text": [
            "Processing files:  14%|█▍        | 29/200 [01:09<06:44,  2.36s/it]"
          ]
        },
        {
          "name": "stdout",
          "output_type": "stream",
          "text": [
            "Appended 5000 rows to CSV\n"
          ]
        },
        {
          "name": "stderr",
          "output_type": "stream",
          "text": [
            "Processing files:  15%|█▌        | 30/200 [01:11<06:40,  2.35s/it]"
          ]
        },
        {
          "name": "stdout",
          "output_type": "stream",
          "text": [
            "Appended 5000 rows to CSV\n"
          ]
        },
        {
          "name": "stderr",
          "output_type": "stream",
          "text": [
            "Processing files:  16%|█▌        | 31/200 [01:13<06:39,  2.36s/it]"
          ]
        },
        {
          "name": "stdout",
          "output_type": "stream",
          "text": [
            "Appended 5000 rows to CSV\n"
          ]
        },
        {
          "name": "stderr",
          "output_type": "stream",
          "text": [
            "Processing files:  16%|█▌        | 32/200 [01:16<06:39,  2.38s/it]"
          ]
        },
        {
          "name": "stdout",
          "output_type": "stream",
          "text": [
            "Appended 5000 rows to CSV\n"
          ]
        },
        {
          "name": "stderr",
          "output_type": "stream",
          "text": [
            "Processing files:  16%|█▋        | 33/200 [01:18<06:41,  2.41s/it]"
          ]
        },
        {
          "name": "stdout",
          "output_type": "stream",
          "text": [
            "Appended 5000 rows to CSV\n"
          ]
        },
        {
          "name": "stderr",
          "output_type": "stream",
          "text": [
            "Processing files:  17%|█▋        | 34/200 [01:21<06:41,  2.42s/it]"
          ]
        },
        {
          "name": "stdout",
          "output_type": "stream",
          "text": [
            "Appended 5000 rows to CSV\n"
          ]
        },
        {
          "name": "stderr",
          "output_type": "stream",
          "text": [
            "Processing files:  18%|█▊        | 35/200 [01:23<06:39,  2.42s/it]"
          ]
        },
        {
          "name": "stdout",
          "output_type": "stream",
          "text": [
            "Appended 5000 rows to CSV\n"
          ]
        },
        {
          "name": "stderr",
          "output_type": "stream",
          "text": [
            "Processing files:  18%|█▊        | 36/200 [01:25<06:37,  2.43s/it]"
          ]
        },
        {
          "name": "stdout",
          "output_type": "stream",
          "text": [
            "Appended 5000 rows to CSV\n"
          ]
        },
        {
          "name": "stderr",
          "output_type": "stream",
          "text": [
            "Processing files:  18%|█▊        | 37/200 [01:28<06:38,  2.44s/it]"
          ]
        },
        {
          "name": "stdout",
          "output_type": "stream",
          "text": [
            "Appended 5000 rows to CSV\n"
          ]
        },
        {
          "name": "stderr",
          "output_type": "stream",
          "text": [
            "Processing files:  19%|█▉        | 38/200 [01:30<06:38,  2.46s/it]"
          ]
        },
        {
          "name": "stdout",
          "output_type": "stream",
          "text": [
            "Appended 5000 rows to CSV\n"
          ]
        },
        {
          "name": "stderr",
          "output_type": "stream",
          "text": [
            "Processing files:  20%|█▉        | 39/200 [01:33<06:33,  2.45s/it]"
          ]
        },
        {
          "name": "stdout",
          "output_type": "stream",
          "text": [
            "Appended 5000 rows to CSV\n"
          ]
        },
        {
          "name": "stderr",
          "output_type": "stream",
          "text": [
            "Processing files:  20%|██        | 40/200 [01:35<06:31,  2.45s/it]"
          ]
        },
        {
          "name": "stdout",
          "output_type": "stream",
          "text": [
            "Appended 5000 rows to CSV\n"
          ]
        },
        {
          "name": "stderr",
          "output_type": "stream",
          "text": [
            "Processing files:  20%|██        | 41/200 [01:38<06:29,  2.45s/it]"
          ]
        },
        {
          "name": "stdout",
          "output_type": "stream",
          "text": [
            "Appended 5000 rows to CSV\n"
          ]
        },
        {
          "name": "stderr",
          "output_type": "stream",
          "text": [
            "Processing files:  21%|██        | 42/200 [01:40<06:26,  2.45s/it]"
          ]
        },
        {
          "name": "stdout",
          "output_type": "stream",
          "text": [
            "Appended 5000 rows to CSV\n"
          ]
        },
        {
          "name": "stderr",
          "output_type": "stream",
          "text": [
            "Processing files:  22%|██▏       | 43/200 [01:43<06:26,  2.46s/it]"
          ]
        },
        {
          "name": "stdout",
          "output_type": "stream",
          "text": [
            "Appended 5000 rows to CSV\n"
          ]
        },
        {
          "name": "stderr",
          "output_type": "stream",
          "text": [
            "Processing files:  22%|██▏       | 44/200 [01:45<06:21,  2.45s/it]"
          ]
        },
        {
          "name": "stdout",
          "output_type": "stream",
          "text": [
            "Appended 5000 rows to CSV\n"
          ]
        },
        {
          "name": "stderr",
          "output_type": "stream",
          "text": [
            "Processing files:  22%|██▎       | 45/200 [01:48<06:20,  2.46s/it]"
          ]
        },
        {
          "name": "stdout",
          "output_type": "stream",
          "text": [
            "Appended 5000 rows to CSV\n"
          ]
        },
        {
          "name": "stderr",
          "output_type": "stream",
          "text": [
            "Processing files:  23%|██▎       | 46/200 [01:50<06:17,  2.45s/it]"
          ]
        },
        {
          "name": "stdout",
          "output_type": "stream",
          "text": [
            "Appended 5000 rows to CSV\n"
          ]
        },
        {
          "name": "stderr",
          "output_type": "stream",
          "text": [
            "Processing files:  24%|██▎       | 47/200 [01:52<06:13,  2.44s/it]"
          ]
        },
        {
          "name": "stdout",
          "output_type": "stream",
          "text": [
            "Appended 5000 rows to CSV\n"
          ]
        },
        {
          "name": "stderr",
          "output_type": "stream",
          "text": [
            "Processing files:  24%|██▍       | 48/200 [01:55<06:07,  2.42s/it]"
          ]
        },
        {
          "name": "stdout",
          "output_type": "stream",
          "text": [
            "Appended 5000 rows to CSV\n"
          ]
        },
        {
          "name": "stderr",
          "output_type": "stream",
          "text": [
            "Processing files:  24%|██▍       | 49/200 [01:57<06:08,  2.44s/it]"
          ]
        },
        {
          "name": "stdout",
          "output_type": "stream",
          "text": [
            "Appended 5000 rows to CSV\n"
          ]
        },
        {
          "name": "stderr",
          "output_type": "stream",
          "text": [
            "Processing files:  25%|██▌       | 50/200 [02:00<06:06,  2.45s/it]"
          ]
        },
        {
          "name": "stdout",
          "output_type": "stream",
          "text": [
            "Appended 5000 rows to CSV\n"
          ]
        },
        {
          "name": "stderr",
          "output_type": "stream",
          "text": [
            "Processing files:  26%|██▌       | 51/200 [02:02<06:03,  2.44s/it]"
          ]
        },
        {
          "name": "stdout",
          "output_type": "stream",
          "text": [
            "Appended 5000 rows to CSV\n"
          ]
        },
        {
          "name": "stderr",
          "output_type": "stream",
          "text": [
            "Processing files:  26%|██▌       | 52/200 [02:05<05:58,  2.42s/it]"
          ]
        },
        {
          "name": "stdout",
          "output_type": "stream",
          "text": [
            "Appended 5000 rows to CSV\n"
          ]
        },
        {
          "name": "stderr",
          "output_type": "stream",
          "text": [
            "Processing files:  26%|██▋       | 53/200 [02:07<05:58,  2.44s/it]"
          ]
        },
        {
          "name": "stdout",
          "output_type": "stream",
          "text": [
            "Appended 5000 rows to CSV\n"
          ]
        },
        {
          "name": "stderr",
          "output_type": "stream",
          "text": [
            "Processing files:  27%|██▋       | 54/200 [02:09<05:51,  2.41s/it]"
          ]
        },
        {
          "name": "stdout",
          "output_type": "stream",
          "text": [
            "Appended 5000 rows to CSV\n"
          ]
        },
        {
          "name": "stderr",
          "output_type": "stream",
          "text": [
            "Processing files:  28%|██▊       | 55/200 [02:12<05:51,  2.43s/it]"
          ]
        },
        {
          "name": "stdout",
          "output_type": "stream",
          "text": [
            "Appended 5000 rows to CSV\n"
          ]
        },
        {
          "name": "stderr",
          "output_type": "stream",
          "text": [
            "Processing files:  28%|██▊       | 56/200 [02:14<05:51,  2.44s/it]"
          ]
        },
        {
          "name": "stdout",
          "output_type": "stream",
          "text": [
            "Appended 5000 rows to CSV\n"
          ]
        },
        {
          "name": "stderr",
          "output_type": "stream",
          "text": [
            "Processing files:  28%|██▊       | 57/200 [02:17<05:47,  2.43s/it]"
          ]
        },
        {
          "name": "stdout",
          "output_type": "stream",
          "text": [
            "Appended 5000 rows to CSV\n"
          ]
        },
        {
          "name": "stderr",
          "output_type": "stream",
          "text": [
            "Processing files:  29%|██▉       | 58/200 [02:19<05:46,  2.44s/it]"
          ]
        },
        {
          "name": "stdout",
          "output_type": "stream",
          "text": [
            "Appended 5000 rows to CSV\n"
          ]
        },
        {
          "name": "stderr",
          "output_type": "stream",
          "text": [
            "Processing files:  30%|██▉       | 59/200 [02:22<05:43,  2.43s/it]"
          ]
        },
        {
          "name": "stdout",
          "output_type": "stream",
          "text": [
            "Appended 5000 rows to CSV\n"
          ]
        },
        {
          "name": "stderr",
          "output_type": "stream",
          "text": [
            "Processing files:  30%|███       | 60/200 [02:24<05:40,  2.44s/it]"
          ]
        },
        {
          "name": "stdout",
          "output_type": "stream",
          "text": [
            "Appended 5000 rows to CSV\n"
          ]
        },
        {
          "name": "stderr",
          "output_type": "stream",
          "text": [
            "Processing files:  30%|███       | 61/200 [02:26<05:39,  2.44s/it]"
          ]
        },
        {
          "name": "stdout",
          "output_type": "stream",
          "text": [
            "Appended 5000 rows to CSV\n"
          ]
        },
        {
          "name": "stderr",
          "output_type": "stream",
          "text": [
            "Processing files:  31%|███       | 62/200 [02:29<05:33,  2.42s/it]"
          ]
        },
        {
          "name": "stdout",
          "output_type": "stream",
          "text": [
            "Appended 5000 rows to CSV\n"
          ]
        },
        {
          "name": "stderr",
          "output_type": "stream",
          "text": [
            "Processing files:  32%|███▏      | 63/200 [02:31<05:28,  2.40s/it]"
          ]
        },
        {
          "name": "stdout",
          "output_type": "stream",
          "text": [
            "Appended 5000 rows to CSV\n"
          ]
        },
        {
          "name": "stderr",
          "output_type": "stream",
          "text": [
            "Processing files:  32%|███▏      | 64/200 [02:34<05:25,  2.40s/it]"
          ]
        },
        {
          "name": "stdout",
          "output_type": "stream",
          "text": [
            "Appended 5000 rows to CSV\n"
          ]
        },
        {
          "name": "stderr",
          "output_type": "stream",
          "text": [
            "Processing files:  32%|███▎      | 65/200 [02:36<05:25,  2.41s/it]"
          ]
        },
        {
          "name": "stdout",
          "output_type": "stream",
          "text": [
            "Appended 5000 rows to CSV\n"
          ]
        },
        {
          "name": "stderr",
          "output_type": "stream",
          "text": [
            "Processing files:  33%|███▎      | 66/200 [02:38<05:22,  2.41s/it]"
          ]
        },
        {
          "name": "stdout",
          "output_type": "stream",
          "text": [
            "Appended 5000 rows to CSV\n"
          ]
        },
        {
          "name": "stderr",
          "output_type": "stream",
          "text": [
            "Processing files:  34%|███▎      | 67/200 [02:41<05:21,  2.42s/it]"
          ]
        },
        {
          "name": "stdout",
          "output_type": "stream",
          "text": [
            "Appended 5000 rows to CSV\n"
          ]
        },
        {
          "name": "stderr",
          "output_type": "stream",
          "text": [
            "Processing files:  34%|███▍      | 68/200 [02:43<05:19,  2.42s/it]"
          ]
        },
        {
          "name": "stdout",
          "output_type": "stream",
          "text": [
            "Appended 5000 rows to CSV\n"
          ]
        },
        {
          "name": "stderr",
          "output_type": "stream",
          "text": [
            "Processing files:  34%|███▍      | 69/200 [02:46<05:17,  2.42s/it]"
          ]
        },
        {
          "name": "stdout",
          "output_type": "stream",
          "text": [
            "Appended 5000 rows to CSV\n"
          ]
        },
        {
          "name": "stderr",
          "output_type": "stream",
          "text": [
            "Processing files:  35%|███▌      | 70/200 [02:48<05:17,  2.44s/it]"
          ]
        },
        {
          "name": "stdout",
          "output_type": "stream",
          "text": [
            "Appended 5000 rows to CSV\n"
          ]
        },
        {
          "name": "stderr",
          "output_type": "stream",
          "text": [
            "Processing files:  36%|███▌      | 71/200 [02:51<05:15,  2.45s/it]"
          ]
        },
        {
          "name": "stdout",
          "output_type": "stream",
          "text": [
            "Appended 5000 rows to CSV\n"
          ]
        },
        {
          "name": "stderr",
          "output_type": "stream",
          "text": [
            "Processing files:  36%|███▌      | 72/200 [02:53<05:11,  2.43s/it]"
          ]
        },
        {
          "name": "stdout",
          "output_type": "stream",
          "text": [
            "Appended 5000 rows to CSV\n"
          ]
        },
        {
          "name": "stderr",
          "output_type": "stream",
          "text": [
            "Processing files:  36%|███▋      | 73/200 [02:55<05:09,  2.43s/it]"
          ]
        },
        {
          "name": "stdout",
          "output_type": "stream",
          "text": [
            "Appended 5000 rows to CSV\n"
          ]
        },
        {
          "name": "stderr",
          "output_type": "stream",
          "text": [
            "Processing files:  37%|███▋      | 74/200 [02:58<05:05,  2.43s/it]"
          ]
        },
        {
          "name": "stdout",
          "output_type": "stream",
          "text": [
            "Appended 5000 rows to CSV\n"
          ]
        },
        {
          "name": "stderr",
          "output_type": "stream",
          "text": [
            "Processing files:  38%|███▊      | 75/200 [03:00<05:00,  2.41s/it]"
          ]
        },
        {
          "name": "stdout",
          "output_type": "stream",
          "text": [
            "Appended 5000 rows to CSV\n"
          ]
        },
        {
          "name": "stderr",
          "output_type": "stream",
          "text": [
            "Processing files:  38%|███▊      | 76/200 [03:03<04:59,  2.41s/it]"
          ]
        },
        {
          "name": "stdout",
          "output_type": "stream",
          "text": [
            "Appended 5000 rows to CSV\n"
          ]
        },
        {
          "name": "stderr",
          "output_type": "stream",
          "text": [
            "Processing files:  38%|███▊      | 77/200 [03:05<04:55,  2.40s/it]"
          ]
        },
        {
          "name": "stdout",
          "output_type": "stream",
          "text": [
            "Appended 5000 rows to CSV\n"
          ]
        },
        {
          "name": "stderr",
          "output_type": "stream",
          "text": [
            "Processing files:  39%|███▉      | 78/200 [03:08<04:53,  2.41s/it]"
          ]
        },
        {
          "name": "stdout",
          "output_type": "stream",
          "text": [
            "Appended 5000 rows to CSV\n"
          ]
        },
        {
          "name": "stderr",
          "output_type": "stream",
          "text": [
            "Processing files:  40%|███▉      | 79/200 [03:10<04:49,  2.39s/it]"
          ]
        },
        {
          "name": "stdout",
          "output_type": "stream",
          "text": [
            "Appended 5000 rows to CSV\n"
          ]
        },
        {
          "name": "stderr",
          "output_type": "stream",
          "text": [
            "Processing files:  40%|████      | 80/200 [03:12<04:45,  2.38s/it]"
          ]
        },
        {
          "name": "stdout",
          "output_type": "stream",
          "text": [
            "Appended 5000 rows to CSV\n"
          ]
        },
        {
          "name": "stderr",
          "output_type": "stream",
          "text": [
            "Processing files:  40%|████      | 81/200 [03:15<04:45,  2.40s/it]"
          ]
        },
        {
          "name": "stdout",
          "output_type": "stream",
          "text": [
            "Appended 5000 rows to CSV\n"
          ]
        },
        {
          "name": "stderr",
          "output_type": "stream",
          "text": [
            "Processing files:  41%|████      | 82/200 [03:17<04:45,  2.42s/it]"
          ]
        },
        {
          "name": "stdout",
          "output_type": "stream",
          "text": [
            "Appended 5000 rows to CSV\n"
          ]
        },
        {
          "name": "stderr",
          "output_type": "stream",
          "text": [
            "Processing files:  42%|████▏     | 83/200 [03:20<04:42,  2.41s/it]"
          ]
        },
        {
          "name": "stdout",
          "output_type": "stream",
          "text": [
            "Appended 5000 rows to CSV\n"
          ]
        },
        {
          "name": "stderr",
          "output_type": "stream",
          "text": [
            "Processing files:  42%|████▏     | 84/200 [03:22<04:40,  2.42s/it]"
          ]
        },
        {
          "name": "stdout",
          "output_type": "stream",
          "text": [
            "Appended 5000 rows to CSV\n"
          ]
        },
        {
          "name": "stderr",
          "output_type": "stream",
          "text": [
            "Processing files:  42%|████▎     | 85/200 [03:24<04:36,  2.41s/it]"
          ]
        },
        {
          "name": "stdout",
          "output_type": "stream",
          "text": [
            "Appended 5000 rows to CSV\n"
          ]
        },
        {
          "name": "stderr",
          "output_type": "stream",
          "text": [
            "Processing files:  43%|████▎     | 86/200 [03:27<04:35,  2.41s/it]"
          ]
        },
        {
          "name": "stdout",
          "output_type": "stream",
          "text": [
            "Appended 5000 rows to CSV\n"
          ]
        },
        {
          "name": "stderr",
          "output_type": "stream",
          "text": [
            "Processing files:  44%|████▎     | 87/200 [03:29<04:33,  2.42s/it]"
          ]
        },
        {
          "name": "stdout",
          "output_type": "stream",
          "text": [
            "Appended 5000 rows to CSV\n"
          ]
        },
        {
          "name": "stderr",
          "output_type": "stream",
          "text": [
            "Processing files:  44%|████▍     | 88/200 [03:32<04:31,  2.43s/it]"
          ]
        },
        {
          "name": "stdout",
          "output_type": "stream",
          "text": [
            "Appended 5000 rows to CSV\n"
          ]
        },
        {
          "name": "stderr",
          "output_type": "stream",
          "text": [
            "Processing files:  44%|████▍     | 89/200 [03:34<04:29,  2.42s/it]"
          ]
        },
        {
          "name": "stdout",
          "output_type": "stream",
          "text": [
            "Appended 5000 rows to CSV\n"
          ]
        },
        {
          "name": "stderr",
          "output_type": "stream",
          "text": [
            "Processing files:  45%|████▌     | 90/200 [03:36<04:25,  2.41s/it]"
          ]
        },
        {
          "name": "stdout",
          "output_type": "stream",
          "text": [
            "Appended 5000 rows to CSV\n"
          ]
        },
        {
          "name": "stderr",
          "output_type": "stream",
          "text": [
            "Processing files:  46%|████▌     | 91/200 [03:39<04:25,  2.43s/it]"
          ]
        },
        {
          "name": "stdout",
          "output_type": "stream",
          "text": [
            "Appended 5000 rows to CSV\n"
          ]
        },
        {
          "name": "stderr",
          "output_type": "stream",
          "text": [
            "Processing files:  46%|████▌     | 92/200 [03:42<04:27,  2.48s/it]"
          ]
        },
        {
          "name": "stdout",
          "output_type": "stream",
          "text": [
            "Appended 5000 rows to CSV\n"
          ]
        },
        {
          "name": "stderr",
          "output_type": "stream",
          "text": [
            "Processing files:  46%|████▋     | 93/200 [03:44<04:21,  2.45s/it]"
          ]
        },
        {
          "name": "stdout",
          "output_type": "stream",
          "text": [
            "Appended 5000 rows to CSV\n"
          ]
        },
        {
          "name": "stderr",
          "output_type": "stream",
          "text": [
            "Processing files:  47%|████▋     | 94/200 [03:46<04:17,  2.43s/it]"
          ]
        },
        {
          "name": "stdout",
          "output_type": "stream",
          "text": [
            "Appended 5000 rows to CSV\n"
          ]
        },
        {
          "name": "stderr",
          "output_type": "stream",
          "text": [
            "Processing files:  48%|████▊     | 95/200 [03:49<04:15,  2.43s/it]"
          ]
        },
        {
          "name": "stdout",
          "output_type": "stream",
          "text": [
            "Appended 5000 rows to CSV\n"
          ]
        },
        {
          "name": "stderr",
          "output_type": "stream",
          "text": [
            "Processing files:  48%|████▊     | 96/200 [03:51<04:12,  2.43s/it]"
          ]
        },
        {
          "name": "stdout",
          "output_type": "stream",
          "text": [
            "Appended 5000 rows to CSV\n"
          ]
        },
        {
          "name": "stderr",
          "output_type": "stream",
          "text": [
            "Processing files:  48%|████▊     | 97/200 [03:53<04:07,  2.41s/it]"
          ]
        },
        {
          "name": "stdout",
          "output_type": "stream",
          "text": [
            "Appended 5000 rows to CSV\n"
          ]
        },
        {
          "name": "stderr",
          "output_type": "stream",
          "text": [
            "Processing files:  49%|████▉     | 98/200 [03:56<04:05,  2.41s/it]"
          ]
        },
        {
          "name": "stdout",
          "output_type": "stream",
          "text": [
            "Appended 5000 rows to CSV\n"
          ]
        },
        {
          "name": "stderr",
          "output_type": "stream",
          "text": [
            "Processing files:  50%|████▉     | 99/200 [03:58<04:02,  2.40s/it]"
          ]
        },
        {
          "name": "stdout",
          "output_type": "stream",
          "text": [
            "Appended 5000 rows to CSV\n"
          ]
        },
        {
          "name": "stderr",
          "output_type": "stream",
          "text": [
            "Processing files:  50%|█████     | 100/200 [04:01<04:01,  2.42s/it]"
          ]
        },
        {
          "name": "stdout",
          "output_type": "stream",
          "text": [
            "Appended 5000 rows to CSV\n"
          ]
        },
        {
          "name": "stderr",
          "output_type": "stream",
          "text": [
            "Processing files:  50%|█████     | 101/200 [04:03<03:58,  2.41s/it]"
          ]
        },
        {
          "name": "stdout",
          "output_type": "stream",
          "text": [
            "Appended 5000 rows to CSV\n"
          ]
        },
        {
          "name": "stderr",
          "output_type": "stream",
          "text": [
            "Processing files:  51%|█████     | 102/200 [04:06<03:56,  2.42s/it]"
          ]
        },
        {
          "name": "stdout",
          "output_type": "stream",
          "text": [
            "Appended 5000 rows to CSV\n"
          ]
        },
        {
          "name": "stderr",
          "output_type": "stream",
          "text": [
            "Processing files:  52%|█████▏    | 103/200 [04:08<03:53,  2.40s/it]"
          ]
        },
        {
          "name": "stdout",
          "output_type": "stream",
          "text": [
            "Appended 5000 rows to CSV\n"
          ]
        },
        {
          "name": "stderr",
          "output_type": "stream",
          "text": [
            "Processing files:  52%|█████▏    | 104/200 [04:10<03:50,  2.40s/it]"
          ]
        },
        {
          "name": "stdout",
          "output_type": "stream",
          "text": [
            "Appended 5000 rows to CSV\n"
          ]
        },
        {
          "name": "stderr",
          "output_type": "stream",
          "text": [
            "Processing files:  52%|█████▎    | 105/200 [04:13<03:47,  2.40s/it]"
          ]
        },
        {
          "name": "stdout",
          "output_type": "stream",
          "text": [
            "Appended 5000 rows to CSV\n"
          ]
        },
        {
          "name": "stderr",
          "output_type": "stream",
          "text": [
            "Processing files:  53%|█████▎    | 106/200 [04:15<03:45,  2.39s/it]"
          ]
        },
        {
          "name": "stdout",
          "output_type": "stream",
          "text": [
            "Appended 5000 rows to CSV\n"
          ]
        },
        {
          "name": "stderr",
          "output_type": "stream",
          "text": [
            "Processing files:  54%|█████▎    | 107/200 [04:18<03:42,  2.40s/it]"
          ]
        },
        {
          "name": "stdout",
          "output_type": "stream",
          "text": [
            "Appended 5000 rows to CSV\n"
          ]
        },
        {
          "name": "stderr",
          "output_type": "stream",
          "text": [
            "Processing files:  54%|█████▍    | 108/200 [04:20<03:41,  2.41s/it]"
          ]
        },
        {
          "name": "stdout",
          "output_type": "stream",
          "text": [
            "Appended 5000 rows to CSV\n"
          ]
        },
        {
          "name": "stderr",
          "output_type": "stream",
          "text": [
            "Processing files:  55%|█████▍    | 109/200 [04:22<03:37,  2.39s/it]"
          ]
        },
        {
          "name": "stdout",
          "output_type": "stream",
          "text": [
            "Appended 5000 rows to CSV\n"
          ]
        },
        {
          "name": "stderr",
          "output_type": "stream",
          "text": [
            "Processing files:  55%|█████▌    | 110/200 [04:25<03:36,  2.40s/it]"
          ]
        },
        {
          "name": "stdout",
          "output_type": "stream",
          "text": [
            "Appended 5000 rows to CSV\n"
          ]
        },
        {
          "name": "stderr",
          "output_type": "stream",
          "text": [
            "Processing files:  56%|█████▌    | 111/200 [04:27<03:33,  2.40s/it]"
          ]
        },
        {
          "name": "stdout",
          "output_type": "stream",
          "text": [
            "Appended 5000 rows to CSV\n"
          ]
        },
        {
          "name": "stderr",
          "output_type": "stream",
          "text": [
            "Processing files:  56%|█████▌    | 112/200 [04:30<03:31,  2.41s/it]"
          ]
        },
        {
          "name": "stdout",
          "output_type": "stream",
          "text": [
            "Appended 5000 rows to CSV\n"
          ]
        },
        {
          "name": "stderr",
          "output_type": "stream",
          "text": [
            "Processing files:  56%|█████▋    | 113/200 [04:32<03:28,  2.40s/it]"
          ]
        },
        {
          "name": "stdout",
          "output_type": "stream",
          "text": [
            "Appended 5000 rows to CSV\n"
          ]
        },
        {
          "name": "stderr",
          "output_type": "stream",
          "text": [
            "Processing files:  57%|█████▋    | 114/200 [04:34<03:27,  2.41s/it]"
          ]
        },
        {
          "name": "stdout",
          "output_type": "stream",
          "text": [
            "Appended 5000 rows to CSV\n"
          ]
        },
        {
          "name": "stderr",
          "output_type": "stream",
          "text": [
            "Processing files:  57%|█████▊    | 115/200 [04:37<03:24,  2.41s/it]"
          ]
        },
        {
          "name": "stdout",
          "output_type": "stream",
          "text": [
            "Appended 5000 rows to CSV\n"
          ]
        },
        {
          "name": "stderr",
          "output_type": "stream",
          "text": [
            "Processing files:  58%|█████▊    | 116/200 [04:39<03:22,  2.41s/it]"
          ]
        },
        {
          "name": "stdout",
          "output_type": "stream",
          "text": [
            "Appended 5000 rows to CSV\n"
          ]
        },
        {
          "name": "stderr",
          "output_type": "stream",
          "text": [
            "Processing files:  58%|█████▊    | 117/200 [04:42<03:20,  2.41s/it]"
          ]
        },
        {
          "name": "stdout",
          "output_type": "stream",
          "text": [
            "Appended 5000 rows to CSV\n"
          ]
        },
        {
          "name": "stderr",
          "output_type": "stream",
          "text": [
            "Processing files:  59%|█████▉    | 118/200 [04:44<03:17,  2.40s/it]"
          ]
        },
        {
          "name": "stdout",
          "output_type": "stream",
          "text": [
            "Appended 5000 rows to CSV\n"
          ]
        },
        {
          "name": "stderr",
          "output_type": "stream",
          "text": [
            "Processing files:  60%|█████▉    | 119/200 [04:46<03:14,  2.40s/it]"
          ]
        },
        {
          "name": "stdout",
          "output_type": "stream",
          "text": [
            "Appended 5000 rows to CSV\n"
          ]
        },
        {
          "name": "stderr",
          "output_type": "stream",
          "text": [
            "Processing files:  60%|██████    | 120/200 [04:49<03:10,  2.38s/it]"
          ]
        },
        {
          "name": "stdout",
          "output_type": "stream",
          "text": [
            "Appended 5000 rows to CSV\n"
          ]
        },
        {
          "name": "stderr",
          "output_type": "stream",
          "text": [
            "Processing files:  60%|██████    | 121/200 [04:51<03:08,  2.38s/it]"
          ]
        },
        {
          "name": "stdout",
          "output_type": "stream",
          "text": [
            "Appended 5000 rows to CSV\n"
          ]
        },
        {
          "name": "stderr",
          "output_type": "stream",
          "text": [
            "Processing files:  61%|██████    | 122/200 [04:53<03:06,  2.39s/it]"
          ]
        },
        {
          "name": "stdout",
          "output_type": "stream",
          "text": [
            "Appended 5000 rows to CSV\n"
          ]
        },
        {
          "name": "stderr",
          "output_type": "stream",
          "text": [
            "Processing files:  62%|██████▏   | 123/200 [04:56<03:05,  2.41s/it]"
          ]
        },
        {
          "name": "stdout",
          "output_type": "stream",
          "text": [
            "Appended 5000 rows to CSV\n"
          ]
        },
        {
          "name": "stderr",
          "output_type": "stream",
          "text": [
            "Processing files:  62%|██████▏   | 124/200 [04:58<03:02,  2.41s/it]"
          ]
        },
        {
          "name": "stdout",
          "output_type": "stream",
          "text": [
            "Appended 5000 rows to CSV\n"
          ]
        },
        {
          "name": "stderr",
          "output_type": "stream",
          "text": [
            "Processing files:  62%|██████▎   | 125/200 [05:01<03:01,  2.42s/it]"
          ]
        },
        {
          "name": "stdout",
          "output_type": "stream",
          "text": [
            "Appended 5000 rows to CSV\n"
          ]
        },
        {
          "name": "stderr",
          "output_type": "stream",
          "text": [
            "Processing files:  63%|██████▎   | 126/200 [05:03<02:58,  2.42s/it]"
          ]
        },
        {
          "name": "stdout",
          "output_type": "stream",
          "text": [
            "Appended 5000 rows to CSV\n"
          ]
        },
        {
          "name": "stderr",
          "output_type": "stream",
          "text": [
            "Processing files:  64%|██████▎   | 127/200 [05:06<02:56,  2.42s/it]"
          ]
        },
        {
          "name": "stdout",
          "output_type": "stream",
          "text": [
            "Appended 5000 rows to CSV\n"
          ]
        },
        {
          "name": "stderr",
          "output_type": "stream",
          "text": [
            "Processing files:  64%|██████▍   | 128/200 [05:08<02:54,  2.43s/it]"
          ]
        },
        {
          "name": "stdout",
          "output_type": "stream",
          "text": [
            "Appended 5000 rows to CSV\n"
          ]
        },
        {
          "name": "stderr",
          "output_type": "stream",
          "text": [
            "Processing files:  64%|██████▍   | 129/200 [05:11<02:53,  2.44s/it]"
          ]
        },
        {
          "name": "stdout",
          "output_type": "stream",
          "text": [
            "Appended 5000 rows to CSV\n"
          ]
        },
        {
          "name": "stderr",
          "output_type": "stream",
          "text": [
            "Processing files:  65%|██████▌   | 130/200 [05:13<02:51,  2.45s/it]"
          ]
        },
        {
          "name": "stdout",
          "output_type": "stream",
          "text": [
            "Appended 5000 rows to CSV\n"
          ]
        },
        {
          "name": "stderr",
          "output_type": "stream",
          "text": [
            "Processing files:  66%|██████▌   | 131/200 [05:15<02:48,  2.45s/it]"
          ]
        },
        {
          "name": "stdout",
          "output_type": "stream",
          "text": [
            "Appended 5000 rows to CSV\n"
          ]
        },
        {
          "name": "stderr",
          "output_type": "stream",
          "text": [
            "Processing files:  66%|██████▌   | 132/200 [05:18<02:46,  2.45s/it]"
          ]
        },
        {
          "name": "stdout",
          "output_type": "stream",
          "text": [
            "Appended 5000 rows to CSV\n"
          ]
        },
        {
          "name": "stderr",
          "output_type": "stream",
          "text": [
            "Processing files:  66%|██████▋   | 133/200 [05:20<02:42,  2.43s/it]"
          ]
        },
        {
          "name": "stdout",
          "output_type": "stream",
          "text": [
            "Appended 5000 rows to CSV\n"
          ]
        },
        {
          "name": "stderr",
          "output_type": "stream",
          "text": [
            "Processing files:  67%|██████▋   | 134/200 [05:23<02:39,  2.42s/it]"
          ]
        },
        {
          "name": "stdout",
          "output_type": "stream",
          "text": [
            "Appended 5000 rows to CSV\n"
          ]
        },
        {
          "name": "stderr",
          "output_type": "stream",
          "text": [
            "Processing files:  68%|██████▊   | 135/200 [05:25<02:38,  2.43s/it]"
          ]
        },
        {
          "name": "stdout",
          "output_type": "stream",
          "text": [
            "Appended 5000 rows to CSV\n"
          ]
        },
        {
          "name": "stderr",
          "output_type": "stream",
          "text": [
            "Processing files:  68%|██████▊   | 136/200 [05:28<02:34,  2.41s/it]"
          ]
        },
        {
          "name": "stdout",
          "output_type": "stream",
          "text": [
            "Appended 5000 rows to CSV\n"
          ]
        },
        {
          "name": "stderr",
          "output_type": "stream",
          "text": [
            "Processing files:  68%|██████▊   | 137/200 [05:30<02:31,  2.40s/it]"
          ]
        },
        {
          "name": "stdout",
          "output_type": "stream",
          "text": [
            "Appended 5000 rows to CSV\n"
          ]
        },
        {
          "name": "stderr",
          "output_type": "stream",
          "text": [
            "Processing files:  69%|██████▉   | 138/200 [05:32<02:28,  2.40s/it]"
          ]
        },
        {
          "name": "stdout",
          "output_type": "stream",
          "text": [
            "Appended 5000 rows to CSV\n"
          ]
        },
        {
          "name": "stderr",
          "output_type": "stream",
          "text": [
            "Processing files:  70%|██████▉   | 139/200 [05:35<02:26,  2.40s/it]"
          ]
        },
        {
          "name": "stdout",
          "output_type": "stream",
          "text": [
            "Appended 5000 rows to CSV\n"
          ]
        },
        {
          "name": "stderr",
          "output_type": "stream",
          "text": [
            "Processing files:  70%|███████   | 140/200 [05:37<02:25,  2.42s/it]"
          ]
        },
        {
          "name": "stdout",
          "output_type": "stream",
          "text": [
            "Appended 5000 rows to CSV\n"
          ]
        },
        {
          "name": "stderr",
          "output_type": "stream",
          "text": [
            "Processing files:  70%|███████   | 141/200 [05:40<02:22,  2.42s/it]"
          ]
        },
        {
          "name": "stdout",
          "output_type": "stream",
          "text": [
            "Appended 5000 rows to CSV\n"
          ]
        },
        {
          "name": "stderr",
          "output_type": "stream",
          "text": [
            "Processing files:  71%|███████   | 142/200 [05:42<02:20,  2.43s/it]"
          ]
        },
        {
          "name": "stdout",
          "output_type": "stream",
          "text": [
            "Appended 5000 rows to CSV\n"
          ]
        },
        {
          "name": "stderr",
          "output_type": "stream",
          "text": [
            "Processing files:  72%|███████▏  | 143/200 [05:44<02:18,  2.43s/it]"
          ]
        },
        {
          "name": "stdout",
          "output_type": "stream",
          "text": [
            "Appended 5000 rows to CSV\n"
          ]
        },
        {
          "name": "stderr",
          "output_type": "stream",
          "text": [
            "Processing files:  72%|███████▏  | 144/200 [05:47<02:16,  2.43s/it]"
          ]
        },
        {
          "name": "stdout",
          "output_type": "stream",
          "text": [
            "Appended 5000 rows to CSV\n"
          ]
        },
        {
          "name": "stderr",
          "output_type": "stream",
          "text": [
            "Processing files:  72%|███████▎  | 145/200 [05:49<02:13,  2.43s/it]"
          ]
        },
        {
          "name": "stdout",
          "output_type": "stream",
          "text": [
            "Appended 5000 rows to CSV\n"
          ]
        },
        {
          "name": "stderr",
          "output_type": "stream",
          "text": [
            "Processing files:  73%|███████▎  | 146/200 [05:52<02:11,  2.43s/it]"
          ]
        },
        {
          "name": "stdout",
          "output_type": "stream",
          "text": [
            "Appended 5000 rows to CSV\n"
          ]
        },
        {
          "name": "stderr",
          "output_type": "stream",
          "text": [
            "Processing files:  74%|███████▎  | 147/200 [05:54<02:09,  2.44s/it]"
          ]
        },
        {
          "name": "stdout",
          "output_type": "stream",
          "text": [
            "Appended 5000 rows to CSV\n"
          ]
        },
        {
          "name": "stderr",
          "output_type": "stream",
          "text": [
            "Processing files:  74%|███████▍  | 148/200 [05:57<02:06,  2.43s/it]"
          ]
        },
        {
          "name": "stdout",
          "output_type": "stream",
          "text": [
            "Appended 5000 rows to CSV\n"
          ]
        },
        {
          "name": "stderr",
          "output_type": "stream",
          "text": [
            "Processing files:  74%|███████▍  | 149/200 [05:59<02:04,  2.44s/it]"
          ]
        },
        {
          "name": "stdout",
          "output_type": "stream",
          "text": [
            "Appended 5000 rows to CSV\n"
          ]
        },
        {
          "name": "stderr",
          "output_type": "stream",
          "text": [
            "Processing files:  75%|███████▌  | 150/200 [06:02<02:02,  2.45s/it]"
          ]
        },
        {
          "name": "stdout",
          "output_type": "stream",
          "text": [
            "Appended 5000 rows to CSV\n"
          ]
        },
        {
          "name": "stderr",
          "output_type": "stream",
          "text": [
            "Processing files:  76%|███████▌  | 151/200 [06:04<01:59,  2.44s/it]"
          ]
        },
        {
          "name": "stdout",
          "output_type": "stream",
          "text": [
            "Appended 5000 rows to CSV\n"
          ]
        },
        {
          "name": "stderr",
          "output_type": "stream",
          "text": [
            "Processing files:  76%|███████▌  | 152/200 [06:06<01:56,  2.43s/it]"
          ]
        },
        {
          "name": "stdout",
          "output_type": "stream",
          "text": [
            "Appended 5000 rows to CSV\n"
          ]
        },
        {
          "name": "stderr",
          "output_type": "stream",
          "text": [
            "Processing files:  76%|███████▋  | 153/200 [06:09<01:53,  2.42s/it]"
          ]
        },
        {
          "name": "stdout",
          "output_type": "stream",
          "text": [
            "Appended 5000 rows to CSV\n"
          ]
        },
        {
          "name": "stderr",
          "output_type": "stream",
          "text": [
            "Processing files:  77%|███████▋  | 154/200 [06:11<01:51,  2.42s/it]"
          ]
        },
        {
          "name": "stdout",
          "output_type": "stream",
          "text": [
            "Appended 5000 rows to CSV\n"
          ]
        },
        {
          "name": "stderr",
          "output_type": "stream",
          "text": [
            "Processing files:  78%|███████▊  | 155/200 [06:14<01:48,  2.41s/it]"
          ]
        },
        {
          "name": "stdout",
          "output_type": "stream",
          "text": [
            "Appended 5000 rows to CSV\n"
          ]
        },
        {
          "name": "stderr",
          "output_type": "stream",
          "text": [
            "Processing files:  78%|███████▊  | 156/200 [06:16<01:46,  2.42s/it]"
          ]
        },
        {
          "name": "stdout",
          "output_type": "stream",
          "text": [
            "Appended 5000 rows to CSV\n"
          ]
        },
        {
          "name": "stderr",
          "output_type": "stream",
          "text": [
            "Processing files:  78%|███████▊  | 157/200 [06:18<01:44,  2.42s/it]"
          ]
        },
        {
          "name": "stdout",
          "output_type": "stream",
          "text": [
            "Appended 5000 rows to CSV\n"
          ]
        },
        {
          "name": "stderr",
          "output_type": "stream",
          "text": [
            "Processing files:  79%|███████▉  | 158/200 [06:21<01:42,  2.43s/it]"
          ]
        },
        {
          "name": "stdout",
          "output_type": "stream",
          "text": [
            "Appended 5000 rows to CSV\n"
          ]
        },
        {
          "name": "stderr",
          "output_type": "stream",
          "text": [
            "Processing files:  80%|███████▉  | 159/200 [06:23<01:39,  2.43s/it]"
          ]
        },
        {
          "name": "stdout",
          "output_type": "stream",
          "text": [
            "Appended 5000 rows to CSV\n"
          ]
        },
        {
          "name": "stderr",
          "output_type": "stream",
          "text": [
            "Processing files:  80%|████████  | 160/200 [06:26<01:39,  2.48s/it]"
          ]
        },
        {
          "name": "stdout",
          "output_type": "stream",
          "text": [
            "Appended 5000 rows to CSV\n"
          ]
        },
        {
          "name": "stderr",
          "output_type": "stream",
          "text": [
            "Processing files:  80%|████████  | 161/200 [06:29<01:37,  2.50s/it]"
          ]
        },
        {
          "name": "stdout",
          "output_type": "stream",
          "text": [
            "Appended 5000 rows to CSV\n"
          ]
        },
        {
          "name": "stderr",
          "output_type": "stream",
          "text": [
            "Processing files:  81%|████████  | 162/200 [06:31<01:33,  2.46s/it]"
          ]
        },
        {
          "name": "stdout",
          "output_type": "stream",
          "text": [
            "Appended 5000 rows to CSV\n"
          ]
        },
        {
          "name": "stderr",
          "output_type": "stream",
          "text": [
            "Processing files:  82%|████████▏ | 163/200 [06:33<01:30,  2.45s/it]"
          ]
        },
        {
          "name": "stdout",
          "output_type": "stream",
          "text": [
            "Appended 5000 rows to CSV\n"
          ]
        },
        {
          "name": "stderr",
          "output_type": "stream",
          "text": [
            "Processing files:  82%|████████▏ | 164/200 [06:36<01:28,  2.45s/it]"
          ]
        },
        {
          "name": "stdout",
          "output_type": "stream",
          "text": [
            "Appended 5000 rows to CSV\n"
          ]
        },
        {
          "name": "stderr",
          "output_type": "stream",
          "text": [
            "Processing files:  82%|████████▎ | 165/200 [06:38<01:25,  2.45s/it]"
          ]
        },
        {
          "name": "stdout",
          "output_type": "stream",
          "text": [
            "Appended 5000 rows to CSV\n"
          ]
        },
        {
          "name": "stderr",
          "output_type": "stream",
          "text": [
            "Processing files:  83%|████████▎ | 166/200 [06:41<01:22,  2.43s/it]"
          ]
        },
        {
          "name": "stdout",
          "output_type": "stream",
          "text": [
            "Appended 5000 rows to CSV\n"
          ]
        },
        {
          "name": "stderr",
          "output_type": "stream",
          "text": [
            "Processing files:  84%|████████▎ | 167/200 [06:43<01:20,  2.44s/it]"
          ]
        },
        {
          "name": "stdout",
          "output_type": "stream",
          "text": [
            "Appended 5000 rows to CSV\n"
          ]
        },
        {
          "name": "stderr",
          "output_type": "stream",
          "text": [
            "Processing files:  84%|████████▍ | 168/200 [06:45<01:17,  2.43s/it]"
          ]
        },
        {
          "name": "stdout",
          "output_type": "stream",
          "text": [
            "Appended 5000 rows to CSV\n"
          ]
        },
        {
          "name": "stderr",
          "output_type": "stream",
          "text": [
            "Processing files:  84%|████████▍ | 169/200 [06:48<01:14,  2.42s/it]"
          ]
        },
        {
          "name": "stdout",
          "output_type": "stream",
          "text": [
            "Appended 5000 rows to CSV\n"
          ]
        },
        {
          "name": "stderr",
          "output_type": "stream",
          "text": [
            "Processing files:  85%|████████▌ | 170/200 [06:50<01:12,  2.42s/it]"
          ]
        },
        {
          "name": "stdout",
          "output_type": "stream",
          "text": [
            "Appended 5000 rows to CSV\n"
          ]
        },
        {
          "name": "stderr",
          "output_type": "stream",
          "text": [
            "Processing files:  86%|████████▌ | 171/200 [06:53<01:10,  2.42s/it]"
          ]
        },
        {
          "name": "stdout",
          "output_type": "stream",
          "text": [
            "Appended 5000 rows to CSV\n"
          ]
        },
        {
          "name": "stderr",
          "output_type": "stream",
          "text": [
            "Processing files:  86%|████████▌ | 172/200 [06:55<01:07,  2.41s/it]"
          ]
        },
        {
          "name": "stdout",
          "output_type": "stream",
          "text": [
            "Appended 5000 rows to CSV\n"
          ]
        },
        {
          "name": "stderr",
          "output_type": "stream",
          "text": [
            "Processing files:  86%|████████▋ | 173/200 [06:57<01:04,  2.40s/it]"
          ]
        },
        {
          "name": "stdout",
          "output_type": "stream",
          "text": [
            "Appended 5000 rows to CSV\n"
          ]
        },
        {
          "name": "stderr",
          "output_type": "stream",
          "text": [
            "Processing files:  87%|████████▋ | 174/200 [07:00<01:02,  2.41s/it]"
          ]
        },
        {
          "name": "stdout",
          "output_type": "stream",
          "text": [
            "Appended 5000 rows to CSV\n"
          ]
        },
        {
          "name": "stderr",
          "output_type": "stream",
          "text": [
            "Processing files:  88%|████████▊ | 175/200 [07:02<00:59,  2.40s/it]"
          ]
        },
        {
          "name": "stdout",
          "output_type": "stream",
          "text": [
            "Appended 5000 rows to CSV\n"
          ]
        },
        {
          "name": "stderr",
          "output_type": "stream",
          "text": [
            "Processing files:  88%|████████▊ | 176/200 [07:05<00:58,  2.43s/it]"
          ]
        },
        {
          "name": "stdout",
          "output_type": "stream",
          "text": [
            "Appended 5000 rows to CSV\n"
          ]
        },
        {
          "name": "stderr",
          "output_type": "stream",
          "text": [
            "Processing files:  88%|████████▊ | 177/200 [07:07<00:55,  2.42s/it]"
          ]
        },
        {
          "name": "stdout",
          "output_type": "stream",
          "text": [
            "Appended 5000 rows to CSV\n"
          ]
        },
        {
          "name": "stderr",
          "output_type": "stream",
          "text": [
            "Processing files:  89%|████████▉ | 178/200 [07:10<00:52,  2.41s/it]"
          ]
        },
        {
          "name": "stdout",
          "output_type": "stream",
          "text": [
            "Appended 5000 rows to CSV\n"
          ]
        },
        {
          "name": "stderr",
          "output_type": "stream",
          "text": [
            "Processing files:  90%|████████▉ | 179/200 [07:12<00:51,  2.46s/it]"
          ]
        },
        {
          "name": "stdout",
          "output_type": "stream",
          "text": [
            "Appended 5000 rows to CSV\n"
          ]
        },
        {
          "name": "stderr",
          "output_type": "stream",
          "text": [
            "Processing files:  90%|█████████ | 180/200 [07:15<00:49,  2.50s/it]"
          ]
        },
        {
          "name": "stdout",
          "output_type": "stream",
          "text": [
            "Appended 5000 rows to CSV\n"
          ]
        },
        {
          "name": "stderr",
          "output_type": "stream",
          "text": [
            "Processing files:  90%|█████████ | 181/200 [07:17<00:47,  2.49s/it]"
          ]
        },
        {
          "name": "stdout",
          "output_type": "stream",
          "text": [
            "Appended 5000 rows to CSV\n"
          ]
        },
        {
          "name": "stderr",
          "output_type": "stream",
          "text": [
            "Processing files:  91%|█████████ | 182/200 [07:20<00:44,  2.48s/it]"
          ]
        },
        {
          "name": "stdout",
          "output_type": "stream",
          "text": [
            "Appended 5000 rows to CSV\n"
          ]
        },
        {
          "name": "stderr",
          "output_type": "stream",
          "text": [
            "Processing files:  92%|█████████▏| 183/200 [07:22<00:42,  2.48s/it]"
          ]
        },
        {
          "name": "stdout",
          "output_type": "stream",
          "text": [
            "Appended 5000 rows to CSV\n"
          ]
        },
        {
          "name": "stderr",
          "output_type": "stream",
          "text": [
            "Processing files:  92%|█████████▏| 184/200 [07:25<00:40,  2.51s/it]"
          ]
        },
        {
          "name": "stdout",
          "output_type": "stream",
          "text": [
            "Appended 5000 rows to CSV\n"
          ]
        },
        {
          "name": "stderr",
          "output_type": "stream",
          "text": [
            "Processing files:  92%|█████████▎| 185/200 [07:27<00:38,  2.53s/it]"
          ]
        },
        {
          "name": "stdout",
          "output_type": "stream",
          "text": [
            "Appended 5000 rows to CSV\n"
          ]
        },
        {
          "name": "stderr",
          "output_type": "stream",
          "text": [
            "Processing files:  93%|█████████▎| 186/200 [07:30<00:34,  2.49s/it]"
          ]
        },
        {
          "name": "stdout",
          "output_type": "stream",
          "text": [
            "Appended 5000 rows to CSV\n"
          ]
        },
        {
          "name": "stderr",
          "output_type": "stream",
          "text": [
            "Processing files:  94%|█████████▎| 187/200 [07:32<00:33,  2.54s/it]"
          ]
        },
        {
          "name": "stdout",
          "output_type": "stream",
          "text": [
            "Appended 5000 rows to CSV\n"
          ]
        },
        {
          "name": "stderr",
          "output_type": "stream",
          "text": [
            "Processing files:  94%|█████████▍| 188/200 [07:35<00:30,  2.57s/it]"
          ]
        },
        {
          "name": "stdout",
          "output_type": "stream",
          "text": [
            "Appended 5000 rows to CSV\n"
          ]
        },
        {
          "name": "stderr",
          "output_type": "stream",
          "text": [
            "Processing files:  94%|█████████▍| 189/200 [07:38<00:29,  2.65s/it]"
          ]
        },
        {
          "name": "stdout",
          "output_type": "stream",
          "text": [
            "Appended 5000 rows to CSV\n"
          ]
        },
        {
          "name": "stderr",
          "output_type": "stream",
          "text": [
            "Processing files:  95%|█████████▌| 190/200 [07:41<00:26,  2.66s/it]"
          ]
        },
        {
          "name": "stdout",
          "output_type": "stream",
          "text": [
            "Appended 5000 rows to CSV\n"
          ]
        },
        {
          "name": "stderr",
          "output_type": "stream",
          "text": [
            "Processing files:  96%|█████████▌| 191/200 [07:43<00:23,  2.61s/it]"
          ]
        },
        {
          "name": "stdout",
          "output_type": "stream",
          "text": [
            "Appended 5000 rows to CSV\n"
          ]
        },
        {
          "name": "stderr",
          "output_type": "stream",
          "text": [
            "Processing files:  96%|█████████▌| 192/200 [07:45<00:20,  2.54s/it]"
          ]
        },
        {
          "name": "stdout",
          "output_type": "stream",
          "text": [
            "Appended 5000 rows to CSV\n"
          ]
        },
        {
          "name": "stderr",
          "output_type": "stream",
          "text": [
            "Processing files:  96%|█████████▋| 193/200 [07:48<00:17,  2.51s/it]"
          ]
        },
        {
          "name": "stdout",
          "output_type": "stream",
          "text": [
            "Appended 5000 rows to CSV\n"
          ]
        },
        {
          "name": "stderr",
          "output_type": "stream",
          "text": [
            "Processing files:  97%|█████████▋| 194/200 [07:50<00:15,  2.51s/it]"
          ]
        },
        {
          "name": "stdout",
          "output_type": "stream",
          "text": [
            "Appended 5000 rows to CSV\n"
          ]
        },
        {
          "name": "stderr",
          "output_type": "stream",
          "text": [
            "Processing files:  98%|█████████▊| 195/200 [07:53<00:12,  2.50s/it]"
          ]
        },
        {
          "name": "stdout",
          "output_type": "stream",
          "text": [
            "Appended 5000 rows to CSV\n"
          ]
        },
        {
          "name": "stderr",
          "output_type": "stream",
          "text": [
            "Processing files:  98%|█████████▊| 196/200 [07:55<00:09,  2.48s/it]"
          ]
        },
        {
          "name": "stdout",
          "output_type": "stream",
          "text": [
            "Appended 5000 rows to CSV\n"
          ]
        },
        {
          "name": "stderr",
          "output_type": "stream",
          "text": [
            "Processing files:  98%|█████████▊| 197/200 [07:58<00:07,  2.48s/it]"
          ]
        },
        {
          "name": "stdout",
          "output_type": "stream",
          "text": [
            "Appended 5000 rows to CSV\n"
          ]
        },
        {
          "name": "stderr",
          "output_type": "stream",
          "text": [
            "Processing files:  99%|█████████▉| 198/200 [08:00<00:04,  2.49s/it]"
          ]
        },
        {
          "name": "stdout",
          "output_type": "stream",
          "text": [
            "Appended 5000 rows to CSV\n"
          ]
        },
        {
          "name": "stderr",
          "output_type": "stream",
          "text": [
            "Processing files: 100%|█████████▉| 199/200 [08:03<00:02,  2.51s/it]"
          ]
        },
        {
          "name": "stdout",
          "output_type": "stream",
          "text": [
            "Appended 5000 rows to CSV\n"
          ]
        },
        {
          "name": "stderr",
          "output_type": "stream",
          "text": [
            "Processing files: 100%|██████████| 200/200 [08:05<00:00,  2.43s/it]"
          ]
        },
        {
          "name": "stdout",
          "output_type": "stream",
          "text": [
            "Appended 4000 rows to CSV\n",
            "Processing complete. Output saved to playlists.csv\n"
          ]
        },
        {
          "name": "stderr",
          "output_type": "stream",
          "text": [
            "\n"
          ]
        }
      ],
      "execution_count": null
    },
    {
      "metadata": {
        "ExecuteTime": {
          "end_time": "2025-03-30T09:58:44.919988Z",
          "start_time": "2025-03-30T09:58:25.590181Z"
        },
        "id": "615a615fd07fd4fd",
        "outputId": "3d81fe6f-35b3-4793-b72d-795fc6bae133"
      },
      "cell_type": "code",
      "source": [
        "chunk_size = 100000\n",
        "playlists_data = pd.read_csv(\"playlists.csv\", chunksize=chunk_size)\n",
        "\n",
        "first_chunk = next(playlists_data)\n",
        "print(first_chunk.head())"
      ],
      "id": "615a615fd07fd4fd",
      "outputs": [
        {
          "data": {
            "text/plain": [
              "               name  collaborative  pid  modified_at  num_tracks  num_albums  \\\n",
              "0        Throwbacks          False    0   1493424000          52          47   \n",
              "1  Awesome Playlist          False    1   1506556800          39          23   \n",
              "2           korean           False    2   1505692800          64          51   \n",
              "3               mat          False    3   1501027200         126         107   \n",
              "4               90s          False    4   1401667200          17          16   \n",
              "\n",
              "   num_followers                                             tracks  \\\n",
              "0              1  [{'pos': 0, 'artist_name': 'Missy Elliott', 't...   \n",
              "1              1  [{'pos': 0, 'artist_name': 'Survivor', 'track_...   \n",
              "2              1  [{'pos': 0, 'artist_name': 'Hoody', 'track_uri...   \n",
              "3              1  [{'pos': 0, 'artist_name': 'Camille Saint-Saën...   \n",
              "4              2  [{'pos': 0, 'artist_name': 'The Smashing Pumpk...   \n",
              "\n",
              "   num_edits  duration_ms  num_artists description  \n",
              "0          6     11532414           37         NaN  \n",
              "1          5     11656470           21         NaN  \n",
              "2         18     14039958           31         NaN  \n",
              "3          4     28926058           86         NaN  \n",
              "4          7      4335282           16         NaN  "
            ],
            "text/html": [
              "<div>\n",
              "<style scoped>\n",
              "    .dataframe tbody tr th:only-of-type {\n",
              "        vertical-align: middle;\n",
              "    }\n",
              "\n",
              "    .dataframe tbody tr th {\n",
              "        vertical-align: top;\n",
              "    }\n",
              "\n",
              "    .dataframe thead th {\n",
              "        text-align: right;\n",
              "    }\n",
              "</style>\n",
              "<table border=\"1\" class=\"dataframe\">\n",
              "  <thead>\n",
              "    <tr style=\"text-align: right;\">\n",
              "      <th></th>\n",
              "      <th>name</th>\n",
              "      <th>collaborative</th>\n",
              "      <th>pid</th>\n",
              "      <th>modified_at</th>\n",
              "      <th>num_tracks</th>\n",
              "      <th>num_albums</th>\n",
              "      <th>num_followers</th>\n",
              "      <th>tracks</th>\n",
              "      <th>num_edits</th>\n",
              "      <th>duration_ms</th>\n",
              "      <th>num_artists</th>\n",
              "      <th>description</th>\n",
              "    </tr>\n",
              "  </thead>\n",
              "  <tbody>\n",
              "    <tr>\n",
              "      <th>0</th>\n",
              "      <td>Throwbacks</td>\n",
              "      <td>False</td>\n",
              "      <td>0</td>\n",
              "      <td>1493424000</td>\n",
              "      <td>52</td>\n",
              "      <td>47</td>\n",
              "      <td>1</td>\n",
              "      <td>[{'pos': 0, 'artist_name': 'Missy Elliott', 't...</td>\n",
              "      <td>6</td>\n",
              "      <td>11532414</td>\n",
              "      <td>37</td>\n",
              "      <td>NaN</td>\n",
              "    </tr>\n",
              "    <tr>\n",
              "      <th>1</th>\n",
              "      <td>Awesome Playlist</td>\n",
              "      <td>False</td>\n",
              "      <td>1</td>\n",
              "      <td>1506556800</td>\n",
              "      <td>39</td>\n",
              "      <td>23</td>\n",
              "      <td>1</td>\n",
              "      <td>[{'pos': 0, 'artist_name': 'Survivor', 'track_...</td>\n",
              "      <td>5</td>\n",
              "      <td>11656470</td>\n",
              "      <td>21</td>\n",
              "      <td>NaN</td>\n",
              "    </tr>\n",
              "    <tr>\n",
              "      <th>2</th>\n",
              "      <td>korean</td>\n",
              "      <td>False</td>\n",
              "      <td>2</td>\n",
              "      <td>1505692800</td>\n",
              "      <td>64</td>\n",
              "      <td>51</td>\n",
              "      <td>1</td>\n",
              "      <td>[{'pos': 0, 'artist_name': 'Hoody', 'track_uri...</td>\n",
              "      <td>18</td>\n",
              "      <td>14039958</td>\n",
              "      <td>31</td>\n",
              "      <td>NaN</td>\n",
              "    </tr>\n",
              "    <tr>\n",
              "      <th>3</th>\n",
              "      <td>mat</td>\n",
              "      <td>False</td>\n",
              "      <td>3</td>\n",
              "      <td>1501027200</td>\n",
              "      <td>126</td>\n",
              "      <td>107</td>\n",
              "      <td>1</td>\n",
              "      <td>[{'pos': 0, 'artist_name': 'Camille Saint-Saën...</td>\n",
              "      <td>4</td>\n",
              "      <td>28926058</td>\n",
              "      <td>86</td>\n",
              "      <td>NaN</td>\n",
              "    </tr>\n",
              "    <tr>\n",
              "      <th>4</th>\n",
              "      <td>90s</td>\n",
              "      <td>False</td>\n",
              "      <td>4</td>\n",
              "      <td>1401667200</td>\n",
              "      <td>17</td>\n",
              "      <td>16</td>\n",
              "      <td>2</td>\n",
              "      <td>[{'pos': 0, 'artist_name': 'The Smashing Pumpk...</td>\n",
              "      <td>7</td>\n",
              "      <td>4335282</td>\n",
              "      <td>16</td>\n",
              "      <td>NaN</td>\n",
              "    </tr>\n",
              "  </tbody>\n",
              "</table>\n",
              "</div>"
            ]
          },
          "execution_count": 10,
          "metadata": {},
          "output_type": "execute_result"
        }
      ],
      "execution_count": null
    },
    {
      "metadata": {
        "ExecuteTime": {
          "end_time": "2025-03-30T10:09:16.070407Z",
          "start_time": "2025-03-30T10:09:16.065308Z"
        },
        "id": "c717bb55851c977e"
      },
      "cell_type": "code",
      "source": [
        "# Creating a filtered csv with only the required columns\n",
        "import pandas as pd\n",
        "import json\n",
        "from ast import literal_eval  # Safer than eval for parsing strings to lists/dicts\n",
        "\n",
        "def filter_playlists_csv(input_csv, output_csv, chunk_size=100000):\n",
        "    # Columns to extract from each track\n",
        "    TRACK_COLS_NEEDED = ['artist_name', 'track_uri', 'track_name']\n",
        "\n",
        "    first_chunk = True\n",
        "\n",
        "    for chunk in pd.read_csv(input_csv, chunksize=chunk_size, usecols=['pid', 'tracks']):\n",
        "        # Parse JSON strings in 'tracks' column to actual lists\n",
        "        chunk['tracks'] = chunk['tracks'].apply(literal_eval)  # Safer than json.loads\n",
        "\n",
        "        # Explode the tracks array into separate rows\n",
        "        exploded = chunk.explode('tracks')\n",
        "\n",
        "        # Convert track objects to columns and keep only needed fields\n",
        "        tracks_df = pd.json_normalize(exploded['tracks'])[TRACK_COLS_NEEDED]\n",
        "\n",
        "        # Combine with pid\n",
        "        result = pd.concat([\n",
        "            exploded[['pid']].reset_index(drop=True),\n",
        "            tracks_df.reset_index(drop=True)\n",
        "        ], axis=1)\n",
        "\n",
        "        # Write to CSV\n",
        "        result.to_csv(\n",
        "            output_csv,\n",
        "            mode='w' if first_chunk else 'a',\n",
        "            header=first_chunk,\n",
        "            index=False\n",
        "        )\n",
        "\n",
        "        first_chunk = False\n",
        "        print(f\"Processed {len(chunk)} rows from input CSV\")\n",
        "\n",
        "    print(f\"Filtered data saved to {output_csv}\")"
      ],
      "id": "c717bb55851c977e",
      "outputs": [],
      "execution_count": null
    },
    {
      "metadata": {
        "ExecuteTime": {
          "end_time": "2025-03-30T10:57:52.647386Z",
          "start_time": "2025-03-30T10:09:54.215757Z"
        },
        "id": "de169c5e3beaf97e",
        "outputId": "888d6b1c-d766-4899-8edf-dc889b17b511"
      },
      "cell_type": "code",
      "source": [
        "filter_playlists_csv(input_csv=\"playlists.csv\", output_csv=\"filtered_playlists.csv\")"
      ],
      "id": "de169c5e3beaf97e",
      "outputs": [
        {
          "name": "stdout",
          "output_type": "stream",
          "text": [
            "Processed 100000 rows from input CSV\n",
            "Processed 100000 rows from input CSV\n",
            "Processed 100000 rows from input CSV\n",
            "Processed 100000 rows from input CSV\n",
            "Processed 100000 rows from input CSV\n",
            "Processed 100000 rows from input CSV\n",
            "Processed 100000 rows from input CSV\n",
            "Processed 100000 rows from input CSV\n",
            "Processed 100000 rows from input CSV\n",
            "Processed 100000 rows from input CSV\n",
            "Filtered data saved to filtered_playlists.csv\n"
          ]
        }
      ],
      "execution_count": null
    },
    {
      "metadata": {
        "ExecuteTime": {
          "end_time": "2025-03-30T11:01:04.418146Z",
          "start_time": "2025-03-30T11:01:04.346770Z"
        },
        "id": "4f3ab39757150042",
        "outputId": "dda66a5e-5857-4675-a9be-f0ebc9f98e43"
      },
      "cell_type": "code",
      "source": [
        "filtered_playlists_data = pd.read_csv(\"filtered_playlists.csv\", chunksize=50000)\n",
        "\n",
        "chunk = next(filtered_playlists_data)\n",
        "chunk.head()"
      ],
      "id": "4f3ab39757150042",
      "outputs": [
        {
          "data": {
            "text/plain": [
              "   pid        artist_name                             track_uri  \\\n",
              "0    0      Missy Elliott  spotify:track:0UaMYEvWZi0ZqiDOoHU3YI   \n",
              "1    0     Britney Spears  spotify:track:6I9VzXrHxO9rA9A5euc8Ak   \n",
              "2    0            Beyoncé  spotify:track:0WqIKmW4BTrj3eJFmnCKMv   \n",
              "3    0  Justin Timberlake  spotify:track:1AWQoqb9bSvzTjaLralEkT   \n",
              "4    0             Shaggy  spotify:track:1lzr43nnXAijIGYnCT8M8H   \n",
              "\n",
              "                                   track_name  \n",
              "0  Lose Control (feat. Ciara & Fat Man Scoop)  \n",
              "1                                       Toxic  \n",
              "2                               Crazy In Love  \n",
              "3                              Rock Your Body  \n",
              "4                                It Wasn't Me  "
            ],
            "text/html": [
              "<div>\n",
              "<style scoped>\n",
              "    .dataframe tbody tr th:only-of-type {\n",
              "        vertical-align: middle;\n",
              "    }\n",
              "\n",
              "    .dataframe tbody tr th {\n",
              "        vertical-align: top;\n",
              "    }\n",
              "\n",
              "    .dataframe thead th {\n",
              "        text-align: right;\n",
              "    }\n",
              "</style>\n",
              "<table border=\"1\" class=\"dataframe\">\n",
              "  <thead>\n",
              "    <tr style=\"text-align: right;\">\n",
              "      <th></th>\n",
              "      <th>pid</th>\n",
              "      <th>artist_name</th>\n",
              "      <th>track_uri</th>\n",
              "      <th>track_name</th>\n",
              "    </tr>\n",
              "  </thead>\n",
              "  <tbody>\n",
              "    <tr>\n",
              "      <th>0</th>\n",
              "      <td>0</td>\n",
              "      <td>Missy Elliott</td>\n",
              "      <td>spotify:track:0UaMYEvWZi0ZqiDOoHU3YI</td>\n",
              "      <td>Lose Control (feat. Ciara &amp; Fat Man Scoop)</td>\n",
              "    </tr>\n",
              "    <tr>\n",
              "      <th>1</th>\n",
              "      <td>0</td>\n",
              "      <td>Britney Spears</td>\n",
              "      <td>spotify:track:6I9VzXrHxO9rA9A5euc8Ak</td>\n",
              "      <td>Toxic</td>\n",
              "    </tr>\n",
              "    <tr>\n",
              "      <th>2</th>\n",
              "      <td>0</td>\n",
              "      <td>Beyoncé</td>\n",
              "      <td>spotify:track:0WqIKmW4BTrj3eJFmnCKMv</td>\n",
              "      <td>Crazy In Love</td>\n",
              "    </tr>\n",
              "    <tr>\n",
              "      <th>3</th>\n",
              "      <td>0</td>\n",
              "      <td>Justin Timberlake</td>\n",
              "      <td>spotify:track:1AWQoqb9bSvzTjaLralEkT</td>\n",
              "      <td>Rock Your Body</td>\n",
              "    </tr>\n",
              "    <tr>\n",
              "      <th>4</th>\n",
              "      <td>0</td>\n",
              "      <td>Shaggy</td>\n",
              "      <td>spotify:track:1lzr43nnXAijIGYnCT8M8H</td>\n",
              "      <td>It Wasn't Me</td>\n",
              "    </tr>\n",
              "  </tbody>\n",
              "</table>\n",
              "</div>"
            ]
          },
          "execution_count": 16,
          "metadata": {},
          "output_type": "execute_result"
        }
      ],
      "execution_count": null
    },
    {
      "metadata": {
        "ExecuteTime": {
          "end_time": "2025-03-30T11:03:18.128294Z",
          "start_time": "2025-03-30T11:03:17.791031Z"
        },
        "id": "a87533cc389b97af",
        "outputId": "8011d305-2eed-4193-e6c3-b76d4707b94a"
      },
      "cell_type": "code",
      "source": [
        "# We have now created the users dataset which will be used for collaborative filtering\n",
        "# We will now create the tracks dataset which will be used for content based filtering\n",
        "tracks_data = pd.read_csv(\"dataset.csv\")\n",
        "tracks_data.head()"
      ],
      "id": "a87533cc389b97af",
      "outputs": [
        {
          "data": {
            "text/plain": [
              "   Unnamed: 0                track_id                 artists  \\\n",
              "0           0  5SuOikwiRyPMVoIQDJUgSV             Gen Hoshino   \n",
              "1           1  4qPNDBW1i3p13qLCt0Ki3A            Ben Woodward   \n",
              "2           2  1iJBSr7s7jYXzM8EGcbK5b  Ingrid Michaelson;ZAYN   \n",
              "3           3  6lfxq3CG4xtTiEg7opyCyx            Kina Grannis   \n",
              "4           4  5vjLSffimiIP26QG5WcN2K        Chord Overstreet   \n",
              "\n",
              "                                          album_name  \\\n",
              "0                                             Comedy   \n",
              "1                                   Ghost (Acoustic)   \n",
              "2                                     To Begin Again   \n",
              "3  Crazy Rich Asians (Original Motion Picture Sou...   \n",
              "4                                            Hold On   \n",
              "\n",
              "                   track_name  popularity  duration_ms  explicit  \\\n",
              "0                      Comedy          73       230666     False   \n",
              "1            Ghost - Acoustic          55       149610     False   \n",
              "2              To Begin Again          57       210826     False   \n",
              "3  Can't Help Falling In Love          71       201933     False   \n",
              "4                     Hold On          82       198853     False   \n",
              "\n",
              "   danceability  energy  ...  loudness  mode  speechiness  acousticness  \\\n",
              "0         0.676  0.4610  ...    -6.746     0       0.1430        0.0322   \n",
              "1         0.420  0.1660  ...   -17.235     1       0.0763        0.9240   \n",
              "2         0.438  0.3590  ...    -9.734     1       0.0557        0.2100   \n",
              "3         0.266  0.0596  ...   -18.515     1       0.0363        0.9050   \n",
              "4         0.618  0.4430  ...    -9.681     1       0.0526        0.4690   \n",
              "\n",
              "   instrumentalness  liveness  valence    tempo  time_signature  track_genre  \n",
              "0          0.000001    0.3580    0.715   87.917               4     acoustic  \n",
              "1          0.000006    0.1010    0.267   77.489               4     acoustic  \n",
              "2          0.000000    0.1170    0.120   76.332               4     acoustic  \n",
              "3          0.000071    0.1320    0.143  181.740               3     acoustic  \n",
              "4          0.000000    0.0829    0.167  119.949               4     acoustic  \n",
              "\n",
              "[5 rows x 21 columns]"
            ],
            "text/html": [
              "<div>\n",
              "<style scoped>\n",
              "    .dataframe tbody tr th:only-of-type {\n",
              "        vertical-align: middle;\n",
              "    }\n",
              "\n",
              "    .dataframe tbody tr th {\n",
              "        vertical-align: top;\n",
              "    }\n",
              "\n",
              "    .dataframe thead th {\n",
              "        text-align: right;\n",
              "    }\n",
              "</style>\n",
              "<table border=\"1\" class=\"dataframe\">\n",
              "  <thead>\n",
              "    <tr style=\"text-align: right;\">\n",
              "      <th></th>\n",
              "      <th>Unnamed: 0</th>\n",
              "      <th>track_id</th>\n",
              "      <th>artists</th>\n",
              "      <th>album_name</th>\n",
              "      <th>track_name</th>\n",
              "      <th>popularity</th>\n",
              "      <th>duration_ms</th>\n",
              "      <th>explicit</th>\n",
              "      <th>danceability</th>\n",
              "      <th>energy</th>\n",
              "      <th>...</th>\n",
              "      <th>loudness</th>\n",
              "      <th>mode</th>\n",
              "      <th>speechiness</th>\n",
              "      <th>acousticness</th>\n",
              "      <th>instrumentalness</th>\n",
              "      <th>liveness</th>\n",
              "      <th>valence</th>\n",
              "      <th>tempo</th>\n",
              "      <th>time_signature</th>\n",
              "      <th>track_genre</th>\n",
              "    </tr>\n",
              "  </thead>\n",
              "  <tbody>\n",
              "    <tr>\n",
              "      <th>0</th>\n",
              "      <td>0</td>\n",
              "      <td>5SuOikwiRyPMVoIQDJUgSV</td>\n",
              "      <td>Gen Hoshino</td>\n",
              "      <td>Comedy</td>\n",
              "      <td>Comedy</td>\n",
              "      <td>73</td>\n",
              "      <td>230666</td>\n",
              "      <td>False</td>\n",
              "      <td>0.676</td>\n",
              "      <td>0.4610</td>\n",
              "      <td>...</td>\n",
              "      <td>-6.746</td>\n",
              "      <td>0</td>\n",
              "      <td>0.1430</td>\n",
              "      <td>0.0322</td>\n",
              "      <td>0.000001</td>\n",
              "      <td>0.3580</td>\n",
              "      <td>0.715</td>\n",
              "      <td>87.917</td>\n",
              "      <td>4</td>\n",
              "      <td>acoustic</td>\n",
              "    </tr>\n",
              "    <tr>\n",
              "      <th>1</th>\n",
              "      <td>1</td>\n",
              "      <td>4qPNDBW1i3p13qLCt0Ki3A</td>\n",
              "      <td>Ben Woodward</td>\n",
              "      <td>Ghost (Acoustic)</td>\n",
              "      <td>Ghost - Acoustic</td>\n",
              "      <td>55</td>\n",
              "      <td>149610</td>\n",
              "      <td>False</td>\n",
              "      <td>0.420</td>\n",
              "      <td>0.1660</td>\n",
              "      <td>...</td>\n",
              "      <td>-17.235</td>\n",
              "      <td>1</td>\n",
              "      <td>0.0763</td>\n",
              "      <td>0.9240</td>\n",
              "      <td>0.000006</td>\n",
              "      <td>0.1010</td>\n",
              "      <td>0.267</td>\n",
              "      <td>77.489</td>\n",
              "      <td>4</td>\n",
              "      <td>acoustic</td>\n",
              "    </tr>\n",
              "    <tr>\n",
              "      <th>2</th>\n",
              "      <td>2</td>\n",
              "      <td>1iJBSr7s7jYXzM8EGcbK5b</td>\n",
              "      <td>Ingrid Michaelson;ZAYN</td>\n",
              "      <td>To Begin Again</td>\n",
              "      <td>To Begin Again</td>\n",
              "      <td>57</td>\n",
              "      <td>210826</td>\n",
              "      <td>False</td>\n",
              "      <td>0.438</td>\n",
              "      <td>0.3590</td>\n",
              "      <td>...</td>\n",
              "      <td>-9.734</td>\n",
              "      <td>1</td>\n",
              "      <td>0.0557</td>\n",
              "      <td>0.2100</td>\n",
              "      <td>0.000000</td>\n",
              "      <td>0.1170</td>\n",
              "      <td>0.120</td>\n",
              "      <td>76.332</td>\n",
              "      <td>4</td>\n",
              "      <td>acoustic</td>\n",
              "    </tr>\n",
              "    <tr>\n",
              "      <th>3</th>\n",
              "      <td>3</td>\n",
              "      <td>6lfxq3CG4xtTiEg7opyCyx</td>\n",
              "      <td>Kina Grannis</td>\n",
              "      <td>Crazy Rich Asians (Original Motion Picture Sou...</td>\n",
              "      <td>Can't Help Falling In Love</td>\n",
              "      <td>71</td>\n",
              "      <td>201933</td>\n",
              "      <td>False</td>\n",
              "      <td>0.266</td>\n",
              "      <td>0.0596</td>\n",
              "      <td>...</td>\n",
              "      <td>-18.515</td>\n",
              "      <td>1</td>\n",
              "      <td>0.0363</td>\n",
              "      <td>0.9050</td>\n",
              "      <td>0.000071</td>\n",
              "      <td>0.1320</td>\n",
              "      <td>0.143</td>\n",
              "      <td>181.740</td>\n",
              "      <td>3</td>\n",
              "      <td>acoustic</td>\n",
              "    </tr>\n",
              "    <tr>\n",
              "      <th>4</th>\n",
              "      <td>4</td>\n",
              "      <td>5vjLSffimiIP26QG5WcN2K</td>\n",
              "      <td>Chord Overstreet</td>\n",
              "      <td>Hold On</td>\n",
              "      <td>Hold On</td>\n",
              "      <td>82</td>\n",
              "      <td>198853</td>\n",
              "      <td>False</td>\n",
              "      <td>0.618</td>\n",
              "      <td>0.4430</td>\n",
              "      <td>...</td>\n",
              "      <td>-9.681</td>\n",
              "      <td>1</td>\n",
              "      <td>0.0526</td>\n",
              "      <td>0.4690</td>\n",
              "      <td>0.000000</td>\n",
              "      <td>0.0829</td>\n",
              "      <td>0.167</td>\n",
              "      <td>119.949</td>\n",
              "      <td>4</td>\n",
              "      <td>acoustic</td>\n",
              "    </tr>\n",
              "  </tbody>\n",
              "</table>\n",
              "<p>5 rows × 21 columns</p>\n",
              "</div>"
            ]
          },
          "execution_count": 18,
          "metadata": {},
          "output_type": "execute_result"
        }
      ],
      "execution_count": null
    },
    {
      "metadata": {
        "ExecuteTime": {
          "end_time": "2025-03-30T11:07:06.415320Z",
          "start_time": "2025-03-30T11:07:06.409024Z"
        },
        "id": "6ab21d3b7e3b1746"
      },
      "cell_type": "code",
      "source": [
        "# Creating a filtered csv with only the required columns: track_id, artists, track_name, duration_ms, danceability, energy, key, loudness, mode, speechiness, acousticness, instrumentalness, liveness, valence, tempo, time_signature, track_genre\n",
        "def filter_tracks_csv(input_csv, output_csv, chunk_size=100000):\n",
        "    # Columns to extract from each track\n",
        "    TRACK_COLS_NEEDED = ['track_id', 'artists', 'track_name', 'duration_ms', 'danceability', 'energy', 'key', 'loudness', 'mode', 'speechiness', 'acousticness', 'instrumentalness', 'liveness', 'valence', 'tempo', 'time_signature', 'track_genre']\n",
        "\n",
        "    first_chunk = True\n",
        "\n",
        "    for chunk in pd.read_csv(input_csv, chunksize=chunk_size):\n",
        "        # Convert track objects to columns and keep only needed fields\n",
        "        tracks_df = chunk[TRACK_COLS_NEEDED]\n",
        "\n",
        "        # Write to CSV\n",
        "        tracks_df.to_csv(\n",
        "            output_csv,\n",
        "            mode='w' if first_chunk else 'a',\n",
        "            header=first_chunk,\n",
        "            index=False\n",
        "        )\n",
        "\n",
        "        first_chunk = False\n",
        "        print(f\"Processed {len(chunk)} rows from input CSV\")\n",
        "\n",
        "    print(f\"Filtered data saved to {output_csv}\")"
      ],
      "id": "6ab21d3b7e3b1746",
      "outputs": [],
      "execution_count": null
    },
    {
      "metadata": {
        "ExecuteTime": {
          "end_time": "2025-03-30T11:07:18.300870Z",
          "start_time": "2025-03-30T11:07:17.101575Z"
        },
        "id": "7bb442813adb6920",
        "outputId": "5e9887a0-2c6c-4070-dccf-740652c72e36"
      },
      "cell_type": "code",
      "source": [
        "filter_tracks_csv(input_csv=\"dataset.csv\", output_csv=\"filtered_tracks.csv\")"
      ],
      "id": "7bb442813adb6920",
      "outputs": [
        {
          "name": "stdout",
          "output_type": "stream",
          "text": [
            "Processed 100000 rows from input CSV\n",
            "Processed 14000 rows from input CSV\n",
            "Filtered data saved to filtered_tracks.csv\n"
          ]
        }
      ],
      "execution_count": null
    },
    {
      "metadata": {
        "ExecuteTime": {
          "end_time": "2025-03-30T12:58:51.139320Z",
          "start_time": "2025-03-30T12:58:50.429343Z"
        },
        "colab": {
          "base_uri": "https://localhost:8080/",
          "height": 295
        },
        "id": "4e9be9543447b7f3",
        "outputId": "56d8b5f1-c9b3-46fc-e8a0-4821c13c7fe4"
      },
      "cell_type": "code",
      "source": [
        "# Now we have created both the datasets for collaborative filtering and content based filtering\n",
        "# Now we will start with content based filtering\n",
        "\n",
        "# Data Preprocessing\n",
        "import pandas as pd\n",
        "from sklearn.preprocessing import StandardScaler, LabelBinarizer\n",
        "\n",
        "# Load the dataset\n",
        "tracks = pd.read_csv(\"filtered_tracks.csv\")\n",
        "\n",
        "# Display the first few rows of the dataset\n",
        "tracks.head()"
      ],
      "id": "4e9be9543447b7f3",
      "outputs": [
        {
          "output_type": "execute_result",
          "data": {
            "text/plain": [
              "                 track_id                 artists                  track_name  \\\n",
              "0  5SuOikwiRyPMVoIQDJUgSV             Gen Hoshino                      Comedy   \n",
              "1  4qPNDBW1i3p13qLCt0Ki3A            Ben Woodward            Ghost - Acoustic   \n",
              "2  1iJBSr7s7jYXzM8EGcbK5b  Ingrid Michaelson;ZAYN              To Begin Again   \n",
              "3  6lfxq3CG4xtTiEg7opyCyx            Kina Grannis  Can't Help Falling In Love   \n",
              "4  5vjLSffimiIP26QG5WcN2K        Chord Overstreet                     Hold On   \n",
              "\n",
              "   duration_ms  danceability  energy  key  loudness  mode  speechiness  \\\n",
              "0       230666         0.676  0.4610    1    -6.746     0       0.1430   \n",
              "1       149610         0.420  0.1660    1   -17.235     1       0.0763   \n",
              "2       210826         0.438  0.3590    0    -9.734     1       0.0557   \n",
              "3       201933         0.266  0.0596    0   -18.515     1       0.0363   \n",
              "4       198853         0.618  0.4430    2    -9.681     1       0.0526   \n",
              "\n",
              "   acousticness  instrumentalness  liveness  valence    tempo  time_signature  \\\n",
              "0        0.0322          0.000001    0.3580    0.715   87.917               4   \n",
              "1        0.9240          0.000006    0.1010    0.267   77.489               4   \n",
              "2        0.2100          0.000000    0.1170    0.120   76.332               4   \n",
              "3        0.9050          0.000071    0.1320    0.143  181.740               3   \n",
              "4        0.4690          0.000000    0.0829    0.167  119.949               4   \n",
              "\n",
              "  track_genre  \n",
              "0    acoustic  \n",
              "1    acoustic  \n",
              "2    acoustic  \n",
              "3    acoustic  \n",
              "4    acoustic  "
            ],
            "text/html": [
              "\n",
              "  <div id=\"df-d0d5f938-12ce-48d3-856e-12425fc3a7ad\" class=\"colab-df-container\">\n",
              "    <div>\n",
              "<style scoped>\n",
              "    .dataframe tbody tr th:only-of-type {\n",
              "        vertical-align: middle;\n",
              "    }\n",
              "\n",
              "    .dataframe tbody tr th {\n",
              "        vertical-align: top;\n",
              "    }\n",
              "\n",
              "    .dataframe thead th {\n",
              "        text-align: right;\n",
              "    }\n",
              "</style>\n",
              "<table border=\"1\" class=\"dataframe\">\n",
              "  <thead>\n",
              "    <tr style=\"text-align: right;\">\n",
              "      <th></th>\n",
              "      <th>track_id</th>\n",
              "      <th>artists</th>\n",
              "      <th>track_name</th>\n",
              "      <th>duration_ms</th>\n",
              "      <th>danceability</th>\n",
              "      <th>energy</th>\n",
              "      <th>key</th>\n",
              "      <th>loudness</th>\n",
              "      <th>mode</th>\n",
              "      <th>speechiness</th>\n",
              "      <th>acousticness</th>\n",
              "      <th>instrumentalness</th>\n",
              "      <th>liveness</th>\n",
              "      <th>valence</th>\n",
              "      <th>tempo</th>\n",
              "      <th>time_signature</th>\n",
              "      <th>track_genre</th>\n",
              "    </tr>\n",
              "  </thead>\n",
              "  <tbody>\n",
              "    <tr>\n",
              "      <th>0</th>\n",
              "      <td>5SuOikwiRyPMVoIQDJUgSV</td>\n",
              "      <td>Gen Hoshino</td>\n",
              "      <td>Comedy</td>\n",
              "      <td>230666</td>\n",
              "      <td>0.676</td>\n",
              "      <td>0.4610</td>\n",
              "      <td>1</td>\n",
              "      <td>-6.746</td>\n",
              "      <td>0</td>\n",
              "      <td>0.1430</td>\n",
              "      <td>0.0322</td>\n",
              "      <td>0.000001</td>\n",
              "      <td>0.3580</td>\n",
              "      <td>0.715</td>\n",
              "      <td>87.917</td>\n",
              "      <td>4</td>\n",
              "      <td>acoustic</td>\n",
              "    </tr>\n",
              "    <tr>\n",
              "      <th>1</th>\n",
              "      <td>4qPNDBW1i3p13qLCt0Ki3A</td>\n",
              "      <td>Ben Woodward</td>\n",
              "      <td>Ghost - Acoustic</td>\n",
              "      <td>149610</td>\n",
              "      <td>0.420</td>\n",
              "      <td>0.1660</td>\n",
              "      <td>1</td>\n",
              "      <td>-17.235</td>\n",
              "      <td>1</td>\n",
              "      <td>0.0763</td>\n",
              "      <td>0.9240</td>\n",
              "      <td>0.000006</td>\n",
              "      <td>0.1010</td>\n",
              "      <td>0.267</td>\n",
              "      <td>77.489</td>\n",
              "      <td>4</td>\n",
              "      <td>acoustic</td>\n",
              "    </tr>\n",
              "    <tr>\n",
              "      <th>2</th>\n",
              "      <td>1iJBSr7s7jYXzM8EGcbK5b</td>\n",
              "      <td>Ingrid Michaelson;ZAYN</td>\n",
              "      <td>To Begin Again</td>\n",
              "      <td>210826</td>\n",
              "      <td>0.438</td>\n",
              "      <td>0.3590</td>\n",
              "      <td>0</td>\n",
              "      <td>-9.734</td>\n",
              "      <td>1</td>\n",
              "      <td>0.0557</td>\n",
              "      <td>0.2100</td>\n",
              "      <td>0.000000</td>\n",
              "      <td>0.1170</td>\n",
              "      <td>0.120</td>\n",
              "      <td>76.332</td>\n",
              "      <td>4</td>\n",
              "      <td>acoustic</td>\n",
              "    </tr>\n",
              "    <tr>\n",
              "      <th>3</th>\n",
              "      <td>6lfxq3CG4xtTiEg7opyCyx</td>\n",
              "      <td>Kina Grannis</td>\n",
              "      <td>Can't Help Falling In Love</td>\n",
              "      <td>201933</td>\n",
              "      <td>0.266</td>\n",
              "      <td>0.0596</td>\n",
              "      <td>0</td>\n",
              "      <td>-18.515</td>\n",
              "      <td>1</td>\n",
              "      <td>0.0363</td>\n",
              "      <td>0.9050</td>\n",
              "      <td>0.000071</td>\n",
              "      <td>0.1320</td>\n",
              "      <td>0.143</td>\n",
              "      <td>181.740</td>\n",
              "      <td>3</td>\n",
              "      <td>acoustic</td>\n",
              "    </tr>\n",
              "    <tr>\n",
              "      <th>4</th>\n",
              "      <td>5vjLSffimiIP26QG5WcN2K</td>\n",
              "      <td>Chord Overstreet</td>\n",
              "      <td>Hold On</td>\n",
              "      <td>198853</td>\n",
              "      <td>0.618</td>\n",
              "      <td>0.4430</td>\n",
              "      <td>2</td>\n",
              "      <td>-9.681</td>\n",
              "      <td>1</td>\n",
              "      <td>0.0526</td>\n",
              "      <td>0.4690</td>\n",
              "      <td>0.000000</td>\n",
              "      <td>0.0829</td>\n",
              "      <td>0.167</td>\n",
              "      <td>119.949</td>\n",
              "      <td>4</td>\n",
              "      <td>acoustic</td>\n",
              "    </tr>\n",
              "  </tbody>\n",
              "</table>\n",
              "</div>\n",
              "    <div class=\"colab-df-buttons\">\n",
              "\n",
              "  <div class=\"colab-df-container\">\n",
              "    <button class=\"colab-df-convert\" onclick=\"convertToInteractive('df-d0d5f938-12ce-48d3-856e-12425fc3a7ad')\"\n",
              "            title=\"Convert this dataframe to an interactive table.\"\n",
              "            style=\"display:none;\">\n",
              "\n",
              "  <svg xmlns=\"http://www.w3.org/2000/svg\" height=\"24px\" viewBox=\"0 -960 960 960\">\n",
              "    <path d=\"M120-120v-720h720v720H120Zm60-500h600v-160H180v160Zm220 220h160v-160H400v160Zm0 220h160v-160H400v160ZM180-400h160v-160H180v160Zm440 0h160v-160H620v160ZM180-180h160v-160H180v160Zm440 0h160v-160H620v160Z\"/>\n",
              "  </svg>\n",
              "    </button>\n",
              "\n",
              "  <style>\n",
              "    .colab-df-container {\n",
              "      display:flex;\n",
              "      gap: 12px;\n",
              "    }\n",
              "\n",
              "    .colab-df-convert {\n",
              "      background-color: #E8F0FE;\n",
              "      border: none;\n",
              "      border-radius: 50%;\n",
              "      cursor: pointer;\n",
              "      display: none;\n",
              "      fill: #1967D2;\n",
              "      height: 32px;\n",
              "      padding: 0 0 0 0;\n",
              "      width: 32px;\n",
              "    }\n",
              "\n",
              "    .colab-df-convert:hover {\n",
              "      background-color: #E2EBFA;\n",
              "      box-shadow: 0px 1px 2px rgba(60, 64, 67, 0.3), 0px 1px 3px 1px rgba(60, 64, 67, 0.15);\n",
              "      fill: #174EA6;\n",
              "    }\n",
              "\n",
              "    .colab-df-buttons div {\n",
              "      margin-bottom: 4px;\n",
              "    }\n",
              "\n",
              "    [theme=dark] .colab-df-convert {\n",
              "      background-color: #3B4455;\n",
              "      fill: #D2E3FC;\n",
              "    }\n",
              "\n",
              "    [theme=dark] .colab-df-convert:hover {\n",
              "      background-color: #434B5C;\n",
              "      box-shadow: 0px 1px 3px 1px rgba(0, 0, 0, 0.15);\n",
              "      filter: drop-shadow(0px 1px 2px rgba(0, 0, 0, 0.3));\n",
              "      fill: #FFFFFF;\n",
              "    }\n",
              "  </style>\n",
              "\n",
              "    <script>\n",
              "      const buttonEl =\n",
              "        document.querySelector('#df-d0d5f938-12ce-48d3-856e-12425fc3a7ad button.colab-df-convert');\n",
              "      buttonEl.style.display =\n",
              "        google.colab.kernel.accessAllowed ? 'block' : 'none';\n",
              "\n",
              "      async function convertToInteractive(key) {\n",
              "        const element = document.querySelector('#df-d0d5f938-12ce-48d3-856e-12425fc3a7ad');\n",
              "        const dataTable =\n",
              "          await google.colab.kernel.invokeFunction('convertToInteractive',\n",
              "                                                    [key], {});\n",
              "        if (!dataTable) return;\n",
              "\n",
              "        const docLinkHtml = 'Like what you see? Visit the ' +\n",
              "          '<a target=\"_blank\" href=https://colab.research.google.com/notebooks/data_table.ipynb>data table notebook</a>'\n",
              "          + ' to learn more about interactive tables.';\n",
              "        element.innerHTML = '';\n",
              "        dataTable['output_type'] = 'display_data';\n",
              "        await google.colab.output.renderOutput(dataTable, element);\n",
              "        const docLink = document.createElement('div');\n",
              "        docLink.innerHTML = docLinkHtml;\n",
              "        element.appendChild(docLink);\n",
              "      }\n",
              "    </script>\n",
              "  </div>\n",
              "\n",
              "\n",
              "<div id=\"df-b74bf234-fc9d-48c7-b6b5-deb5a6f73273\">\n",
              "  <button class=\"colab-df-quickchart\" onclick=\"quickchart('df-b74bf234-fc9d-48c7-b6b5-deb5a6f73273')\"\n",
              "            title=\"Suggest charts\"\n",
              "            style=\"display:none;\">\n",
              "\n",
              "<svg xmlns=\"http://www.w3.org/2000/svg\" height=\"24px\"viewBox=\"0 0 24 24\"\n",
              "     width=\"24px\">\n",
              "    <g>\n",
              "        <path d=\"M19 3H5c-1.1 0-2 .9-2 2v14c0 1.1.9 2 2 2h14c1.1 0 2-.9 2-2V5c0-1.1-.9-2-2-2zM9 17H7v-7h2v7zm4 0h-2V7h2v10zm4 0h-2v-4h2v4z\"/>\n",
              "    </g>\n",
              "</svg>\n",
              "  </button>\n",
              "\n",
              "<style>\n",
              "  .colab-df-quickchart {\n",
              "      --bg-color: #E8F0FE;\n",
              "      --fill-color: #1967D2;\n",
              "      --hover-bg-color: #E2EBFA;\n",
              "      --hover-fill-color: #174EA6;\n",
              "      --disabled-fill-color: #AAA;\n",
              "      --disabled-bg-color: #DDD;\n",
              "  }\n",
              "\n",
              "  [theme=dark] .colab-df-quickchart {\n",
              "      --bg-color: #3B4455;\n",
              "      --fill-color: #D2E3FC;\n",
              "      --hover-bg-color: #434B5C;\n",
              "      --hover-fill-color: #FFFFFF;\n",
              "      --disabled-bg-color: #3B4455;\n",
              "      --disabled-fill-color: #666;\n",
              "  }\n",
              "\n",
              "  .colab-df-quickchart {\n",
              "    background-color: var(--bg-color);\n",
              "    border: none;\n",
              "    border-radius: 50%;\n",
              "    cursor: pointer;\n",
              "    display: none;\n",
              "    fill: var(--fill-color);\n",
              "    height: 32px;\n",
              "    padding: 0;\n",
              "    width: 32px;\n",
              "  }\n",
              "\n",
              "  .colab-df-quickchart:hover {\n",
              "    background-color: var(--hover-bg-color);\n",
              "    box-shadow: 0 1px 2px rgba(60, 64, 67, 0.3), 0 1px 3px 1px rgba(60, 64, 67, 0.15);\n",
              "    fill: var(--button-hover-fill-color);\n",
              "  }\n",
              "\n",
              "  .colab-df-quickchart-complete:disabled,\n",
              "  .colab-df-quickchart-complete:disabled:hover {\n",
              "    background-color: var(--disabled-bg-color);\n",
              "    fill: var(--disabled-fill-color);\n",
              "    box-shadow: none;\n",
              "  }\n",
              "\n",
              "  .colab-df-spinner {\n",
              "    border: 2px solid var(--fill-color);\n",
              "    border-color: transparent;\n",
              "    border-bottom-color: var(--fill-color);\n",
              "    animation:\n",
              "      spin 1s steps(1) infinite;\n",
              "  }\n",
              "\n",
              "  @keyframes spin {\n",
              "    0% {\n",
              "      border-color: transparent;\n",
              "      border-bottom-color: var(--fill-color);\n",
              "      border-left-color: var(--fill-color);\n",
              "    }\n",
              "    20% {\n",
              "      border-color: transparent;\n",
              "      border-left-color: var(--fill-color);\n",
              "      border-top-color: var(--fill-color);\n",
              "    }\n",
              "    30% {\n",
              "      border-color: transparent;\n",
              "      border-left-color: var(--fill-color);\n",
              "      border-top-color: var(--fill-color);\n",
              "      border-right-color: var(--fill-color);\n",
              "    }\n",
              "    40% {\n",
              "      border-color: transparent;\n",
              "      border-right-color: var(--fill-color);\n",
              "      border-top-color: var(--fill-color);\n",
              "    }\n",
              "    60% {\n",
              "      border-color: transparent;\n",
              "      border-right-color: var(--fill-color);\n",
              "    }\n",
              "    80% {\n",
              "      border-color: transparent;\n",
              "      border-right-color: var(--fill-color);\n",
              "      border-bottom-color: var(--fill-color);\n",
              "    }\n",
              "    90% {\n",
              "      border-color: transparent;\n",
              "      border-bottom-color: var(--fill-color);\n",
              "    }\n",
              "  }\n",
              "</style>\n",
              "\n",
              "  <script>\n",
              "    async function quickchart(key) {\n",
              "      const quickchartButtonEl =\n",
              "        document.querySelector('#' + key + ' button');\n",
              "      quickchartButtonEl.disabled = true;  // To prevent multiple clicks.\n",
              "      quickchartButtonEl.classList.add('colab-df-spinner');\n",
              "      try {\n",
              "        const charts = await google.colab.kernel.invokeFunction(\n",
              "            'suggestCharts', [key], {});\n",
              "      } catch (error) {\n",
              "        console.error('Error during call to suggestCharts:', error);\n",
              "      }\n",
              "      quickchartButtonEl.classList.remove('colab-df-spinner');\n",
              "      quickchartButtonEl.classList.add('colab-df-quickchart-complete');\n",
              "    }\n",
              "    (() => {\n",
              "      let quickchartButtonEl =\n",
              "        document.querySelector('#df-b74bf234-fc9d-48c7-b6b5-deb5a6f73273 button');\n",
              "      quickchartButtonEl.style.display =\n",
              "        google.colab.kernel.accessAllowed ? 'block' : 'none';\n",
              "    })();\n",
              "  </script>\n",
              "</div>\n",
              "\n",
              "    </div>\n",
              "  </div>\n"
            ],
            "application/vnd.google.colaboratory.intrinsic+json": {
              "type": "dataframe",
              "variable_name": "tracks"
            }
          },
          "metadata": {},
          "execution_count": 4
        }
      ],
      "execution_count": 4
    },
    {
      "metadata": {
        "ExecuteTime": {
          "end_time": "2025-03-30T13:06:42.959262Z",
          "start_time": "2025-03-30T13:06:42.639996Z"
        },
        "id": "a81e878cc2a19e0c"
      },
      "cell_type": "code",
      "source": [
        "# Feature Selection\n",
        "\n",
        "# Selecting relevant features for content-based filtering\n",
        "audio_features = ['danceability', 'energy', 'loudness', 'acousticness', 'liveness', 'valence', 'tempo', 'duration_ms']\n",
        "genres = 'track_genre'\n",
        "\n",
        "# Normalize the audio features\n",
        "scaler = StandardScaler()\n",
        "tracks[audio_features] = scaler.fit_transform(tracks[audio_features])\n",
        "\n",
        "# One-hot encode the genres\n",
        "genres_encoder = LabelBinarizer()\n",
        "genres_encoded = genres_encoder.fit_transform(tracks[genres])\n",
        "\n",
        "import numpy as np\n",
        "# Combine the features\n",
        "tracks_feature_matrix = np.hstack([tracks[audio_features], genres_encoded])"
      ],
      "id": "a81e878cc2a19e0c",
      "outputs": [],
      "execution_count": 5
    },
    {
      "cell_type": "code",
      "source": [
        "tracks[audio_features].isna().sum()"
      ],
      "metadata": {
        "colab": {
          "base_uri": "https://localhost:8080/",
          "height": 335
        },
        "id": "yE09FJ7ZD2XH",
        "outputId": "3562a8f7-97d7-4019-c09b-ca883d7110ae"
      },
      "id": "yE09FJ7ZD2XH",
      "execution_count": 34,
      "outputs": [
        {
          "output_type": "execute_result",
          "data": {
            "text/plain": [
              "danceability    0\n",
              "energy          0\n",
              "loudness        0\n",
              "acousticness    0\n",
              "liveness        0\n",
              "valence         0\n",
              "tempo           0\n",
              "duration_ms     0\n",
              "dtype: int64"
            ],
            "text/html": [
              "<div>\n",
              "<style scoped>\n",
              "    .dataframe tbody tr th:only-of-type {\n",
              "        vertical-align: middle;\n",
              "    }\n",
              "\n",
              "    .dataframe tbody tr th {\n",
              "        vertical-align: top;\n",
              "    }\n",
              "\n",
              "    .dataframe thead th {\n",
              "        text-align: right;\n",
              "    }\n",
              "</style>\n",
              "<table border=\"1\" class=\"dataframe\">\n",
              "  <thead>\n",
              "    <tr style=\"text-align: right;\">\n",
              "      <th></th>\n",
              "      <th>0</th>\n",
              "    </tr>\n",
              "  </thead>\n",
              "  <tbody>\n",
              "    <tr>\n",
              "      <th>danceability</th>\n",
              "      <td>0</td>\n",
              "    </tr>\n",
              "    <tr>\n",
              "      <th>energy</th>\n",
              "      <td>0</td>\n",
              "    </tr>\n",
              "    <tr>\n",
              "      <th>loudness</th>\n",
              "      <td>0</td>\n",
              "    </tr>\n",
              "    <tr>\n",
              "      <th>acousticness</th>\n",
              "      <td>0</td>\n",
              "    </tr>\n",
              "    <tr>\n",
              "      <th>liveness</th>\n",
              "      <td>0</td>\n",
              "    </tr>\n",
              "    <tr>\n",
              "      <th>valence</th>\n",
              "      <td>0</td>\n",
              "    </tr>\n",
              "    <tr>\n",
              "      <th>tempo</th>\n",
              "      <td>0</td>\n",
              "    </tr>\n",
              "    <tr>\n",
              "      <th>duration_ms</th>\n",
              "      <td>0</td>\n",
              "    </tr>\n",
              "  </tbody>\n",
              "</table>\n",
              "</div><br><label><b>dtype:</b> int64</label>"
            ]
          },
          "metadata": {},
          "execution_count": 34
        }
      ]
    },
    {
      "metadata": {
        "ExecuteTime": {
          "end_time": "2025-03-30T13:08:45.662219Z",
          "start_time": "2025-03-30T13:08:45.505116Z"
        },
        "id": "52794e607bb545b4"
      },
      "cell_type": "code",
      "source": [
        "# Train-Validation Split\n",
        "from sklearn.model_selection import train_test_split\n",
        "\n",
        "X_train, X_val = train_test_split(tracks_feature_matrix, test_size=0.2, random_state=42)"
      ],
      "id": "52794e607bb545b4",
      "outputs": [],
      "execution_count": 6
    },
    {
      "metadata": {
        "ExecuteTime": {
          "end_time": "2025-03-30T13:25:07.800829Z",
          "start_time": "2025-03-30T13:25:04.012349Z"
        },
        "id": "c97c6da38bd7c3bb"
      },
      "cell_type": "code",
      "source": [
        "# Model Architecture\n",
        "from tensorflow.keras import Model, layers\n",
        "\n",
        "input_dimensions = tracks_feature_matrix.shape[1]\n",
        "embedding_dimensions = 64\n",
        "\n",
        "# Build the model\n",
        "inputs = layers.Input(shape=(input_dimensions,))\n",
        "x = layers.Dense(256, activation='relu')(inputs)\n",
        "x = layers.Dense(128, activation='relu')(x)\n",
        "embeddings = layers.Dense(embedding_dimensions, name=\"embedding\")(x)\n",
        "\n",
        "# Add auxiliary reconstruction head (autoencoder-style)\n",
        "decoder = layers.Dense(128, activation='relu')(embeddings)\n",
        "decoder = layers.Dense(256, activation='relu')(decoder)\n",
        "outputs = layers.Dense(input_dimensions, activation='linear')(decoder) # Reconstructing the input features\n",
        "\n",
        "model = Model(inputs=inputs, outputs=outputs)"
      ],
      "id": "c97c6da38bd7c3bb",
      "outputs": [],
      "execution_count": 29
    },
    {
      "metadata": {
        "colab": {
          "base_uri": "https://localhost:8080/"
        },
        "id": "f7ebb26654456b1b",
        "outputId": "63987666-c68c-4859-ba02-43cbebdf97ac"
      },
      "cell_type": "code",
      "outputs": [
        {
          "output_type": "stream",
          "name": "stdout",
          "text": [
            "Epoch 1/50\n",
            "\u001b[1m357/357\u001b[0m \u001b[32m━━━━━━━━━━━━━━━━━━━━\u001b[0m\u001b[37m\u001b[0m \u001b[1m7s\u001b[0m 12ms/step - loss: 0.0222 - mae: 0.0550 - val_loss: 0.0055 - val_mae: 0.0401\n",
            "Epoch 2/50\n",
            "\u001b[1m357/357\u001b[0m \u001b[32m━━━━━━━━━━━━━━━━━━━━\u001b[0m\u001b[37m\u001b[0m \u001b[1m5s\u001b[0m 11ms/step - loss: 0.0046 - mae: 0.0392 - val_loss: 0.0025 - val_mae: 0.0347\n",
            "Epoch 3/50\n",
            "\u001b[1m357/357\u001b[0m \u001b[32m━━━━━━━━━━━━━━━━━━━━\u001b[0m\u001b[37m\u001b[0m \u001b[1m5s\u001b[0m 14ms/step - loss: 0.0019 - mae: 0.0307 - val_loss: 9.4224e-04 - val_mae: 0.0223\n",
            "Epoch 4/50\n",
            "\u001b[1m357/357\u001b[0m \u001b[32m━━━━━━━━━━━━━━━━━━━━\u001b[0m\u001b[37m\u001b[0m \u001b[1m4s\u001b[0m 11ms/step - loss: 7.1179e-04 - mae: 0.0191 - val_loss: 4.5873e-04 - val_mae: 0.0142\n",
            "Epoch 5/50\n",
            "\u001b[1m357/357\u001b[0m \u001b[32m━━━━━━━━━━━━━━━━━━━━\u001b[0m\u001b[37m\u001b[0m \u001b[1m4s\u001b[0m 11ms/step - loss: 3.0464e-04 - mae: 0.0118 - val_loss: 2.7940e-04 - val_mae: 0.0102\n",
            "Epoch 6/50\n",
            "\u001b[1m357/357\u001b[0m \u001b[32m━━━━━━━━━━━━━━━━━━━━\u001b[0m\u001b[37m\u001b[0m \u001b[1m5s\u001b[0m 14ms/step - loss: 2.1324e-04 - mae: 0.0094 - val_loss: 1.5870e-04 - val_mae: 0.0081\n",
            "Epoch 7/50\n",
            "\u001b[1m357/357\u001b[0m \u001b[32m━━━━━━━━━━━━━━━━━━━━\u001b[0m\u001b[37m\u001b[0m \u001b[1m4s\u001b[0m 11ms/step - loss: 1.7643e-04 - mae: 0.0083 - val_loss: 1.2967e-04 - val_mae: 0.0072\n",
            "Epoch 8/50\n",
            "\u001b[1m357/357\u001b[0m \u001b[32m━━━━━━━━━━━━━━━━━━━━\u001b[0m\u001b[37m\u001b[0m \u001b[1m7s\u001b[0m 16ms/step - loss: 1.8460e-04 - mae: 0.0081 - val_loss: 1.2578e-04 - val_mae: 0.0070\n",
            "Epoch 9/50\n",
            "\u001b[1m357/357\u001b[0m \u001b[32m━━━━━━━━━━━━━━━━━━━━\u001b[0m\u001b[37m\u001b[0m \u001b[1m9s\u001b[0m 11ms/step - loss: 1.5049e-04 - mae: 0.0074 - val_loss: 3.7720e-04 - val_mae: 0.0108\n",
            "Epoch 10/50\n",
            "\u001b[1m357/357\u001b[0m \u001b[32m━━━━━━━━━━━━━━━━━━━━\u001b[0m\u001b[37m\u001b[0m \u001b[1m6s\u001b[0m 13ms/step - loss: 1.5209e-04 - mae: 0.0074 - val_loss: 1.1751e-04 - val_mae: 0.0069\n",
            "Epoch 11/50\n",
            "\u001b[1m357/357\u001b[0m \u001b[32m━━━━━━━━━━━━━━━━━━━━\u001b[0m\u001b[37m\u001b[0m \u001b[1m5s\u001b[0m 11ms/step - loss: 1.1115e-04 - mae: 0.0066 - val_loss: 1.1107e-04 - val_mae: 0.0064\n",
            "Epoch 12/50\n",
            "\u001b[1m357/357\u001b[0m \u001b[32m━━━━━━━━━━━━━━━━━━━━\u001b[0m\u001b[37m\u001b[0m \u001b[1m6s\u001b[0m 14ms/step - loss: 9.8687e-05 - mae: 0.0061 - val_loss: 7.1905e-05 - val_mae: 0.0053\n",
            "Epoch 13/50\n",
            "\u001b[1m357/357\u001b[0m \u001b[32m━━━━━━━━━━━━━━━━━━━━\u001b[0m\u001b[37m\u001b[0m \u001b[1m4s\u001b[0m 10ms/step - loss: 1.0817e-04 - mae: 0.0062 - val_loss: 6.2946e-05 - val_mae: 0.0052\n",
            "Epoch 14/50\n",
            "\u001b[1m357/357\u001b[0m \u001b[32m━━━━━━━━━━━━━━━━━━━━\u001b[0m\u001b[37m\u001b[0m \u001b[1m4s\u001b[0m 11ms/step - loss: 1.1130e-04 - mae: 0.0062 - val_loss: 6.8941e-05 - val_mae: 0.0057\n",
            "Epoch 15/50\n",
            "\u001b[1m357/357\u001b[0m \u001b[32m━━━━━━━━━━━━━━━━━━━━\u001b[0m\u001b[37m\u001b[0m \u001b[1m5s\u001b[0m 15ms/step - loss: 7.8525e-05 - mae: 0.0055 - val_loss: 7.0195e-05 - val_mae: 0.0051\n",
            "Epoch 16/50\n",
            "\u001b[1m357/357\u001b[0m \u001b[32m━━━━━━━━━━━━━━━━━━━━\u001b[0m\u001b[37m\u001b[0m \u001b[1m4s\u001b[0m 11ms/step - loss: 8.9395e-05 - mae: 0.0056 - val_loss: 6.3807e-05 - val_mae: 0.0053\n",
            "Epoch 17/50\n",
            "\u001b[1m357/357\u001b[0m \u001b[32m━━━━━━━━━━━━━━━━━━━━\u001b[0m\u001b[37m\u001b[0m \u001b[1m4s\u001b[0m 11ms/step - loss: 9.7511e-05 - mae: 0.0060 - val_loss: 4.0971e-05 - val_mae: 0.0040\n",
            "Epoch 18/50\n",
            "\u001b[1m357/357\u001b[0m \u001b[32m━━━━━━━━━━━━━━━━━━━━\u001b[0m\u001b[37m\u001b[0m \u001b[1m6s\u001b[0m 15ms/step - loss: 1.0530e-04 - mae: 0.0060 - val_loss: 5.8644e-05 - val_mae: 0.0047\n",
            "Epoch 19/50\n",
            "\u001b[1m357/357\u001b[0m \u001b[32m━━━━━━━━━━━━━━━━━━━━\u001b[0m\u001b[37m\u001b[0m \u001b[1m4s\u001b[0m 11ms/step - loss: 8.2037e-05 - mae: 0.0055 - val_loss: 8.2310e-05 - val_mae: 0.0057\n",
            "Epoch 20/50\n",
            "\u001b[1m357/357\u001b[0m \u001b[32m━━━━━━━━━━━━━━━━━━━━\u001b[0m\u001b[37m\u001b[0m \u001b[1m5s\u001b[0m 12ms/step - loss: 1.9222e-04 - mae: 0.0073 - val_loss: 6.5487e-05 - val_mae: 0.0048\n",
            "Epoch 21/50\n",
            "\u001b[1m357/357\u001b[0m \u001b[32m━━━━━━━━━━━━━━━━━━━━\u001b[0m\u001b[37m\u001b[0m \u001b[1m5s\u001b[0m 11ms/step - loss: 6.4313e-05 - mae: 0.0046 - val_loss: 4.1704e-05 - val_mae: 0.0043\n",
            "Epoch 22/50\n",
            "\u001b[1m357/357\u001b[0m \u001b[32m━━━━━━━━━━━━━━━━━━━━\u001b[0m\u001b[37m\u001b[0m \u001b[1m5s\u001b[0m 11ms/step - loss: 8.3636e-05 - mae: 0.0052 - val_loss: 1.1312e-04 - val_mae: 0.0061\n",
            "Epoch 23/50\n",
            "\u001b[1m357/357\u001b[0m \u001b[32m━━━━━━━━━━━━━━━━━━━━\u001b[0m\u001b[37m\u001b[0m \u001b[1m6s\u001b[0m 14ms/step - loss: 6.1474e-05 - mae: 0.0045 - val_loss: 6.6443e-05 - val_mae: 0.0054\n",
            "Epoch 24/50\n",
            "\u001b[1m357/357\u001b[0m \u001b[32m━━━━━━━━━━━━━━━━━━━━\u001b[0m\u001b[37m\u001b[0m \u001b[1m4s\u001b[0m 11ms/step - loss: 6.5481e-05 - mae: 0.0050 - val_loss: 3.5906e-05 - val_mae: 0.0036\n",
            "Epoch 25/50\n",
            "\u001b[1m357/357\u001b[0m \u001b[32m━━━━━━━━━━━━━━━━━━━━\u001b[0m\u001b[37m\u001b[0m \u001b[1m4s\u001b[0m 11ms/step - loss: 6.8336e-05 - mae: 0.0047 - val_loss: 5.2270e-04 - val_mae: 0.0137\n",
            "Epoch 26/50\n",
            "\u001b[1m357/357\u001b[0m \u001b[32m━━━━━━━━━━━━━━━━━━━━\u001b[0m\u001b[37m\u001b[0m \u001b[1m5s\u001b[0m 11ms/step - loss: 1.5475e-04 - mae: 0.0071 - val_loss: 6.6793e-05 - val_mae: 0.0050\n",
            "Epoch 27/50\n",
            "\u001b[1m357/357\u001b[0m \u001b[32m━━━━━━━━━━━━━━━━━━━━\u001b[0m\u001b[37m\u001b[0m \u001b[1m5s\u001b[0m 11ms/step - loss: 4.8853e-05 - mae: 0.0043 - val_loss: 3.8078e-05 - val_mae: 0.0041\n",
            "Epoch 28/50\n",
            "\u001b[1m357/357\u001b[0m \u001b[32m━━━━━━━━━━━━━━━━━━━━\u001b[0m\u001b[37m\u001b[0m \u001b[1m6s\u001b[0m 14ms/step - loss: 1.0053e-04 - mae: 0.0052 - val_loss: 5.3069e-05 - val_mae: 0.0047\n",
            "Epoch 29/50\n",
            "\u001b[1m357/357\u001b[0m \u001b[32m━━━━━━━━━━━━━━━━━━━━\u001b[0m\u001b[37m\u001b[0m \u001b[1m4s\u001b[0m 11ms/step - loss: 5.4686e-05 - mae: 0.0040 - val_loss: 1.9093e-04 - val_mae: 0.0084\n",
            "Epoch 30/50\n",
            "\u001b[1m357/357\u001b[0m \u001b[32m━━━━━━━━━━━━━━━━━━━━\u001b[0m\u001b[37m\u001b[0m \u001b[1m5s\u001b[0m 11ms/step - loss: 9.1173e-05 - mae: 0.0056 - val_loss: 6.1138e-05 - val_mae: 0.0043\n",
            "Epoch 31/50\n",
            "\u001b[1m357/357\u001b[0m \u001b[32m━━━━━━━━━━━━━━━━━━━━\u001b[0m\u001b[37m\u001b[0m \u001b[1m5s\u001b[0m 11ms/step - loss: 1.1694e-04 - mae: 0.0059 - val_loss: 3.7970e-05 - val_mae: 0.0038\n",
            "Epoch 32/50\n",
            "\u001b[1m357/357\u001b[0m \u001b[32m━━━━━━━━━━━━━━━━━━━━\u001b[0m\u001b[37m\u001b[0m \u001b[1m5s\u001b[0m 11ms/step - loss: 4.9927e-05 - mae: 0.0040 - val_loss: 3.2714e-05 - val_mae: 0.0040\n",
            "Epoch 33/50\n",
            "\u001b[1m357/357\u001b[0m \u001b[32m━━━━━━━━━━━━━━━━━━━━\u001b[0m\u001b[37m\u001b[0m \u001b[1m6s\u001b[0m 15ms/step - loss: 5.4373e-05 - mae: 0.0043 - val_loss: 3.4928e-05 - val_mae: 0.0041\n",
            "Epoch 34/50\n",
            "\u001b[1m357/357\u001b[0m \u001b[32m━━━━━━━━━━━━━━━━━━━━\u001b[0m\u001b[37m\u001b[0m \u001b[1m4s\u001b[0m 11ms/step - loss: 7.4991e-05 - mae: 0.0047 - val_loss: 5.0528e-05 - val_mae: 0.0049\n",
            "Epoch 35/50\n",
            "\u001b[1m357/357\u001b[0m \u001b[32m━━━━━━━━━━━━━━━━━━━━\u001b[0m\u001b[37m\u001b[0m \u001b[1m4s\u001b[0m 11ms/step - loss: 8.0430e-05 - mae: 0.0054 - val_loss: 3.3948e-05 - val_mae: 0.0028\n",
            "Epoch 36/50\n",
            "\u001b[1m357/357\u001b[0m \u001b[32m━━━━━━━━━━━━━━━━━━━━\u001b[0m\u001b[37m\u001b[0m \u001b[1m5s\u001b[0m 14ms/step - loss: 4.3888e-05 - mae: 0.0037 - val_loss: 1.1836e-04 - val_mae: 0.0060\n",
            "Epoch 37/50\n",
            "\u001b[1m357/357\u001b[0m \u001b[32m━━━━━━━━━━━━━━━━━━━━\u001b[0m\u001b[37m\u001b[0m \u001b[1m4s\u001b[0m 10ms/step - loss: 5.8229e-05 - mae: 0.0046 - val_loss: 1.3203e-04 - val_mae: 0.0079\n",
            "Epoch 38/50\n",
            "\u001b[1m357/357\u001b[0m \u001b[32m━━━━━━━━━━━━━━━━━━━━\u001b[0m\u001b[37m\u001b[0m \u001b[1m7s\u001b[0m 14ms/step - loss: 9.4629e-05 - mae: 0.0055 - val_loss: 1.7514e-04 - val_mae: 0.0078\n",
            "Epoch 39/50\n",
            "\u001b[1m357/357\u001b[0m \u001b[32m━━━━━━━━━━━━━━━━━━━━\u001b[0m\u001b[37m\u001b[0m \u001b[1m4s\u001b[0m 11ms/step - loss: 6.6817e-05 - mae: 0.0046 - val_loss: 1.3491e-04 - val_mae: 0.0073\n",
            "Epoch 40/50\n",
            "\u001b[1m357/357\u001b[0m \u001b[32m━━━━━━━━━━━━━━━━━━━━\u001b[0m\u001b[37m\u001b[0m \u001b[1m5s\u001b[0m 11ms/step - loss: 1.0634e-04 - mae: 0.0060 - val_loss: 5.2589e-04 - val_mae: 0.0167\n",
            "Epoch 41/50\n",
            "\u001b[1m357/357\u001b[0m \u001b[32m━━━━━━━━━━━━━━━━━━━━\u001b[0m\u001b[37m\u001b[0m \u001b[1m5s\u001b[0m 14ms/step - loss: 1.2446e-04 - mae: 0.0063 - val_loss: 3.5387e-05 - val_mae: 0.0035\n",
            "Epoch 42/50\n",
            "\u001b[1m357/357\u001b[0m \u001b[32m━━━━━━━━━━━━━━━━━━━━\u001b[0m\u001b[37m\u001b[0m \u001b[1m9s\u001b[0m 11ms/step - loss: 6.5246e-05 - mae: 0.0046 - val_loss: 1.3004e-04 - val_mae: 0.0063\n",
            "Epoch 43/50\n",
            "\u001b[1m357/357\u001b[0m \u001b[32m━━━━━━━━━━━━━━━━━━━━\u001b[0m\u001b[37m\u001b[0m \u001b[1m5s\u001b[0m 14ms/step - loss: 7.4825e-05 - mae: 0.0050 - val_loss: 3.2445e-05 - val_mae: 0.0041\n",
            "Epoch 44/50\n",
            "\u001b[1m357/357\u001b[0m \u001b[32m━━━━━━━━━━━━━━━━━━━━\u001b[0m\u001b[37m\u001b[0m \u001b[1m4s\u001b[0m 11ms/step - loss: 5.7583e-05 - mae: 0.0044 - val_loss: 9.3789e-05 - val_mae: 0.0058\n",
            "Epoch 45/50\n",
            "\u001b[1m357/357\u001b[0m \u001b[32m━━━━━━━━━━━━━━━━━━━━\u001b[0m\u001b[37m\u001b[0m \u001b[1m4s\u001b[0m 11ms/step - loss: 5.1082e-05 - mae: 0.0040 - val_loss: 0.0015 - val_mae: 0.0263\n",
            "Epoch 46/50\n",
            "\u001b[1m357/357\u001b[0m \u001b[32m━━━━━━━━━━━━━━━━━━━━\u001b[0m\u001b[37m\u001b[0m \u001b[1m5s\u001b[0m 11ms/step - loss: 3.1677e-04 - mae: 0.0101 - val_loss: 2.1187e-05 - val_mae: 0.0026\n",
            "Epoch 47/50\n",
            "\u001b[1m357/357\u001b[0m \u001b[32m━━━━━━━━━━━━━━━━━━━━\u001b[0m\u001b[37m\u001b[0m \u001b[1m4s\u001b[0m 11ms/step - loss: 2.5512e-05 - mae: 0.0028 - val_loss: 9.7464e-05 - val_mae: 0.0049\n",
            "Epoch 48/50\n",
            "\u001b[1m357/357\u001b[0m \u001b[32m━━━━━━━━━━━━━━━━━━━━\u001b[0m\u001b[37m\u001b[0m \u001b[1m6s\u001b[0m 15ms/step - loss: 4.7296e-05 - mae: 0.0037 - val_loss: 2.0381e-05 - val_mae: 0.0027\n",
            "Epoch 49/50\n",
            "\u001b[1m357/357\u001b[0m \u001b[32m━━━━━━━━━━━━━━━━━━━━\u001b[0m\u001b[37m\u001b[0m \u001b[1m9s\u001b[0m 11ms/step - loss: 4.6521e-05 - mae: 0.0035 - val_loss: 6.1029e-05 - val_mae: 0.0052\n",
            "Epoch 50/50\n",
            "\u001b[1m357/357\u001b[0m \u001b[32m━━━━━━━━━━━━━━━━━━━━\u001b[0m\u001b[37m\u001b[0m \u001b[1m6s\u001b[0m 12ms/step - loss: 4.8319e-05 - mae: 0.0043 - val_loss: 2.3424e-05 - val_mae: 0.0031\n"
          ]
        }
      ],
      "execution_count": 8,
      "source": [
        "# Training Setup\n",
        "model.compile(\n",
        "    optimizer='adam', loss='mse', metrics=['mae']\n",
        ")\n",
        "\n",
        "history = model.fit(\n",
        "    X_train, X_train, epochs=50, batch_size=256, validation_data=(X_val, X_val)\n",
        ")"
      ],
      "id": "f7ebb26654456b1b"
    },
    {
      "cell_type": "code",
      "source": [
        "# Extract embedding model\n",
        "embedding_model = Model(\n",
        "    inputs=model.input, outputs=model.get_layer('embedding').output\n",
        ")\n",
        "\n",
        "all_embeddings = embedding_model.predict(tracks_feature_matrix)"
      ],
      "metadata": {
        "colab": {
          "base_uri": "https://localhost:8080/"
        },
        "id": "Qo2lmQMjp8cU",
        "outputId": "db92cd17-026f-4f51-8254-dc2e2bfa3c02"
      },
      "id": "Qo2lmQMjp8cU",
      "execution_count": 30,
      "outputs": [
        {
          "output_type": "stream",
          "name": "stdout",
          "text": [
            "\u001b[1m3563/3563\u001b[0m \u001b[32m━━━━━━━━━━━━━━━━━━━━\u001b[0m\u001b[37m\u001b[0m \u001b[1m5s\u001b[0m 1ms/step\n"
          ]
        }
      ]
    },
    {
      "cell_type": "code",
      "source": [
        "embeddings_df = pd.DataFrame(all_embeddings, columns=[f\"emb_{i}\" for i in range(embedding_dimensions)])\n",
        "\n",
        "tracks_with_embeddings = tracks.copy()\n",
        "\n",
        "for i in range(embedding_dimensions):\n",
        "  tracks_with_embeddings[f'emb_{i}'] = all_embeddings[:, i]"
      ],
      "metadata": {
        "id": "7klcIEXprds_"
      },
      "id": "7klcIEXprds_",
      "execution_count": 37,
      "outputs": []
    },
    {
      "cell_type": "code",
      "source": [
        "embeddings_df.head()"
      ],
      "metadata": {
        "colab": {
          "base_uri": "https://localhost:8080/",
          "height": 255
        },
        "id": "4zfh4lwFEIvw",
        "outputId": "dd043461-4a9d-4e9d-fd8f-741a8b657e47"
      },
      "id": "4zfh4lwFEIvw",
      "execution_count": 38,
      "outputs": [
        {
          "output_type": "execute_result",
          "data": {
            "text/plain": [
              "      emb_0     emb_1     emb_2     emb_3     emb_4     emb_5     emb_6  \\\n",
              "0  0.037753 -0.043368 -0.112395 -0.050648 -0.024273 -0.172355  0.019060   \n",
              "1  0.144376 -0.245689  0.092467 -0.493079 -0.309669 -0.314804 -0.111875   \n",
              "2  0.005635 -0.099467 -0.043675 -0.218742  0.060826 -0.130870  0.158089   \n",
              "3  0.141054 -0.635278 -0.207342 -0.476302 -0.418650 -0.262454 -0.204236   \n",
              "4  0.166311 -0.107020  0.009209 -0.212727 -0.198440 -0.242734  0.159085   \n",
              "\n",
              "      emb_7     emb_8     emb_9  ...    emb_54    emb_55    emb_56    emb_57  \\\n",
              "0  0.177195  0.036935  0.041494  ...  0.026546  0.040854  0.000061 -0.056485   \n",
              "1  0.003019 -0.219999  0.079534  ...  0.035766 -0.133507  0.289012 -0.044654   \n",
              "2  0.044259  0.031066  0.079179  ... -0.045124  0.001100  0.106933 -0.141384   \n",
              "3 -0.018381 -0.061756  0.079092  ...  0.255313 -0.432985  0.330100 -0.159431   \n",
              "4 -0.009077  0.059602  0.015046  ...  0.109243 -0.135456 -0.046755 -0.034329   \n",
              "\n",
              "     emb_58    emb_59    emb_60    emb_61    emb_62    emb_63  \n",
              "0 -0.331604 -0.144195 -0.101007  0.005430 -0.018791  0.058135  \n",
              "1 -0.406979 -0.329948 -0.211469  0.164515 -0.114954 -0.026168  \n",
              "2 -0.384567 -0.115001 -0.090348  0.184421 -0.078719 -0.084987  \n",
              "3  0.086129 -0.428819 -0.239598  0.131262 -0.250253  0.145362  \n",
              "4 -0.177423 -0.257376 -0.107344  0.027321 -0.066966 -0.020128  \n",
              "\n",
              "[5 rows x 64 columns]"
            ],
            "text/html": [
              "\n",
              "  <div id=\"df-1fc034c0-1a9c-4103-80aa-64db5259fbe9\" class=\"colab-df-container\">\n",
              "    <div>\n",
              "<style scoped>\n",
              "    .dataframe tbody tr th:only-of-type {\n",
              "        vertical-align: middle;\n",
              "    }\n",
              "\n",
              "    .dataframe tbody tr th {\n",
              "        vertical-align: top;\n",
              "    }\n",
              "\n",
              "    .dataframe thead th {\n",
              "        text-align: right;\n",
              "    }\n",
              "</style>\n",
              "<table border=\"1\" class=\"dataframe\">\n",
              "  <thead>\n",
              "    <tr style=\"text-align: right;\">\n",
              "      <th></th>\n",
              "      <th>emb_0</th>\n",
              "      <th>emb_1</th>\n",
              "      <th>emb_2</th>\n",
              "      <th>emb_3</th>\n",
              "      <th>emb_4</th>\n",
              "      <th>emb_5</th>\n",
              "      <th>emb_6</th>\n",
              "      <th>emb_7</th>\n",
              "      <th>emb_8</th>\n",
              "      <th>emb_9</th>\n",
              "      <th>...</th>\n",
              "      <th>emb_54</th>\n",
              "      <th>emb_55</th>\n",
              "      <th>emb_56</th>\n",
              "      <th>emb_57</th>\n",
              "      <th>emb_58</th>\n",
              "      <th>emb_59</th>\n",
              "      <th>emb_60</th>\n",
              "      <th>emb_61</th>\n",
              "      <th>emb_62</th>\n",
              "      <th>emb_63</th>\n",
              "    </tr>\n",
              "  </thead>\n",
              "  <tbody>\n",
              "    <tr>\n",
              "      <th>0</th>\n",
              "      <td>0.037753</td>\n",
              "      <td>-0.043368</td>\n",
              "      <td>-0.112395</td>\n",
              "      <td>-0.050648</td>\n",
              "      <td>-0.024273</td>\n",
              "      <td>-0.172355</td>\n",
              "      <td>0.019060</td>\n",
              "      <td>0.177195</td>\n",
              "      <td>0.036935</td>\n",
              "      <td>0.041494</td>\n",
              "      <td>...</td>\n",
              "      <td>0.026546</td>\n",
              "      <td>0.040854</td>\n",
              "      <td>0.000061</td>\n",
              "      <td>-0.056485</td>\n",
              "      <td>-0.331604</td>\n",
              "      <td>-0.144195</td>\n",
              "      <td>-0.101007</td>\n",
              "      <td>0.005430</td>\n",
              "      <td>-0.018791</td>\n",
              "      <td>0.058135</td>\n",
              "    </tr>\n",
              "    <tr>\n",
              "      <th>1</th>\n",
              "      <td>0.144376</td>\n",
              "      <td>-0.245689</td>\n",
              "      <td>0.092467</td>\n",
              "      <td>-0.493079</td>\n",
              "      <td>-0.309669</td>\n",
              "      <td>-0.314804</td>\n",
              "      <td>-0.111875</td>\n",
              "      <td>0.003019</td>\n",
              "      <td>-0.219999</td>\n",
              "      <td>0.079534</td>\n",
              "      <td>...</td>\n",
              "      <td>0.035766</td>\n",
              "      <td>-0.133507</td>\n",
              "      <td>0.289012</td>\n",
              "      <td>-0.044654</td>\n",
              "      <td>-0.406979</td>\n",
              "      <td>-0.329948</td>\n",
              "      <td>-0.211469</td>\n",
              "      <td>0.164515</td>\n",
              "      <td>-0.114954</td>\n",
              "      <td>-0.026168</td>\n",
              "    </tr>\n",
              "    <tr>\n",
              "      <th>2</th>\n",
              "      <td>0.005635</td>\n",
              "      <td>-0.099467</td>\n",
              "      <td>-0.043675</td>\n",
              "      <td>-0.218742</td>\n",
              "      <td>0.060826</td>\n",
              "      <td>-0.130870</td>\n",
              "      <td>0.158089</td>\n",
              "      <td>0.044259</td>\n",
              "      <td>0.031066</td>\n",
              "      <td>0.079179</td>\n",
              "      <td>...</td>\n",
              "      <td>-0.045124</td>\n",
              "      <td>0.001100</td>\n",
              "      <td>0.106933</td>\n",
              "      <td>-0.141384</td>\n",
              "      <td>-0.384567</td>\n",
              "      <td>-0.115001</td>\n",
              "      <td>-0.090348</td>\n",
              "      <td>0.184421</td>\n",
              "      <td>-0.078719</td>\n",
              "      <td>-0.084987</td>\n",
              "    </tr>\n",
              "    <tr>\n",
              "      <th>3</th>\n",
              "      <td>0.141054</td>\n",
              "      <td>-0.635278</td>\n",
              "      <td>-0.207342</td>\n",
              "      <td>-0.476302</td>\n",
              "      <td>-0.418650</td>\n",
              "      <td>-0.262454</td>\n",
              "      <td>-0.204236</td>\n",
              "      <td>-0.018381</td>\n",
              "      <td>-0.061756</td>\n",
              "      <td>0.079092</td>\n",
              "      <td>...</td>\n",
              "      <td>0.255313</td>\n",
              "      <td>-0.432985</td>\n",
              "      <td>0.330100</td>\n",
              "      <td>-0.159431</td>\n",
              "      <td>0.086129</td>\n",
              "      <td>-0.428819</td>\n",
              "      <td>-0.239598</td>\n",
              "      <td>0.131262</td>\n",
              "      <td>-0.250253</td>\n",
              "      <td>0.145362</td>\n",
              "    </tr>\n",
              "    <tr>\n",
              "      <th>4</th>\n",
              "      <td>0.166311</td>\n",
              "      <td>-0.107020</td>\n",
              "      <td>0.009209</td>\n",
              "      <td>-0.212727</td>\n",
              "      <td>-0.198440</td>\n",
              "      <td>-0.242734</td>\n",
              "      <td>0.159085</td>\n",
              "      <td>-0.009077</td>\n",
              "      <td>0.059602</td>\n",
              "      <td>0.015046</td>\n",
              "      <td>...</td>\n",
              "      <td>0.109243</td>\n",
              "      <td>-0.135456</td>\n",
              "      <td>-0.046755</td>\n",
              "      <td>-0.034329</td>\n",
              "      <td>-0.177423</td>\n",
              "      <td>-0.257376</td>\n",
              "      <td>-0.107344</td>\n",
              "      <td>0.027321</td>\n",
              "      <td>-0.066966</td>\n",
              "      <td>-0.020128</td>\n",
              "    </tr>\n",
              "  </tbody>\n",
              "</table>\n",
              "<p>5 rows × 64 columns</p>\n",
              "</div>\n",
              "    <div class=\"colab-df-buttons\">\n",
              "\n",
              "  <div class=\"colab-df-container\">\n",
              "    <button class=\"colab-df-convert\" onclick=\"convertToInteractive('df-1fc034c0-1a9c-4103-80aa-64db5259fbe9')\"\n",
              "            title=\"Convert this dataframe to an interactive table.\"\n",
              "            style=\"display:none;\">\n",
              "\n",
              "  <svg xmlns=\"http://www.w3.org/2000/svg\" height=\"24px\" viewBox=\"0 -960 960 960\">\n",
              "    <path d=\"M120-120v-720h720v720H120Zm60-500h600v-160H180v160Zm220 220h160v-160H400v160Zm0 220h160v-160H400v160ZM180-400h160v-160H180v160Zm440 0h160v-160H620v160ZM180-180h160v-160H180v160Zm440 0h160v-160H620v160Z\"/>\n",
              "  </svg>\n",
              "    </button>\n",
              "\n",
              "  <style>\n",
              "    .colab-df-container {\n",
              "      display:flex;\n",
              "      gap: 12px;\n",
              "    }\n",
              "\n",
              "    .colab-df-convert {\n",
              "      background-color: #E8F0FE;\n",
              "      border: none;\n",
              "      border-radius: 50%;\n",
              "      cursor: pointer;\n",
              "      display: none;\n",
              "      fill: #1967D2;\n",
              "      height: 32px;\n",
              "      padding: 0 0 0 0;\n",
              "      width: 32px;\n",
              "    }\n",
              "\n",
              "    .colab-df-convert:hover {\n",
              "      background-color: #E2EBFA;\n",
              "      box-shadow: 0px 1px 2px rgba(60, 64, 67, 0.3), 0px 1px 3px 1px rgba(60, 64, 67, 0.15);\n",
              "      fill: #174EA6;\n",
              "    }\n",
              "\n",
              "    .colab-df-buttons div {\n",
              "      margin-bottom: 4px;\n",
              "    }\n",
              "\n",
              "    [theme=dark] .colab-df-convert {\n",
              "      background-color: #3B4455;\n",
              "      fill: #D2E3FC;\n",
              "    }\n",
              "\n",
              "    [theme=dark] .colab-df-convert:hover {\n",
              "      background-color: #434B5C;\n",
              "      box-shadow: 0px 1px 3px 1px rgba(0, 0, 0, 0.15);\n",
              "      filter: drop-shadow(0px 1px 2px rgba(0, 0, 0, 0.3));\n",
              "      fill: #FFFFFF;\n",
              "    }\n",
              "  </style>\n",
              "\n",
              "    <script>\n",
              "      const buttonEl =\n",
              "        document.querySelector('#df-1fc034c0-1a9c-4103-80aa-64db5259fbe9 button.colab-df-convert');\n",
              "      buttonEl.style.display =\n",
              "        google.colab.kernel.accessAllowed ? 'block' : 'none';\n",
              "\n",
              "      async function convertToInteractive(key) {\n",
              "        const element = document.querySelector('#df-1fc034c0-1a9c-4103-80aa-64db5259fbe9');\n",
              "        const dataTable =\n",
              "          await google.colab.kernel.invokeFunction('convertToInteractive',\n",
              "                                                    [key], {});\n",
              "        if (!dataTable) return;\n",
              "\n",
              "        const docLinkHtml = 'Like what you see? Visit the ' +\n",
              "          '<a target=\"_blank\" href=https://colab.research.google.com/notebooks/data_table.ipynb>data table notebook</a>'\n",
              "          + ' to learn more about interactive tables.';\n",
              "        element.innerHTML = '';\n",
              "        dataTable['output_type'] = 'display_data';\n",
              "        await google.colab.output.renderOutput(dataTable, element);\n",
              "        const docLink = document.createElement('div');\n",
              "        docLink.innerHTML = docLinkHtml;\n",
              "        element.appendChild(docLink);\n",
              "      }\n",
              "    </script>\n",
              "  </div>\n",
              "\n",
              "\n",
              "<div id=\"df-39499947-99f8-4ce5-8a52-959796ee8468\">\n",
              "  <button class=\"colab-df-quickchart\" onclick=\"quickchart('df-39499947-99f8-4ce5-8a52-959796ee8468')\"\n",
              "            title=\"Suggest charts\"\n",
              "            style=\"display:none;\">\n",
              "\n",
              "<svg xmlns=\"http://www.w3.org/2000/svg\" height=\"24px\"viewBox=\"0 0 24 24\"\n",
              "     width=\"24px\">\n",
              "    <g>\n",
              "        <path d=\"M19 3H5c-1.1 0-2 .9-2 2v14c0 1.1.9 2 2 2h14c1.1 0 2-.9 2-2V5c0-1.1-.9-2-2-2zM9 17H7v-7h2v7zm4 0h-2V7h2v10zm4 0h-2v-4h2v4z\"/>\n",
              "    </g>\n",
              "</svg>\n",
              "  </button>\n",
              "\n",
              "<style>\n",
              "  .colab-df-quickchart {\n",
              "      --bg-color: #E8F0FE;\n",
              "      --fill-color: #1967D2;\n",
              "      --hover-bg-color: #E2EBFA;\n",
              "      --hover-fill-color: #174EA6;\n",
              "      --disabled-fill-color: #AAA;\n",
              "      --disabled-bg-color: #DDD;\n",
              "  }\n",
              "\n",
              "  [theme=dark] .colab-df-quickchart {\n",
              "      --bg-color: #3B4455;\n",
              "      --fill-color: #D2E3FC;\n",
              "      --hover-bg-color: #434B5C;\n",
              "      --hover-fill-color: #FFFFFF;\n",
              "      --disabled-bg-color: #3B4455;\n",
              "      --disabled-fill-color: #666;\n",
              "  }\n",
              "\n",
              "  .colab-df-quickchart {\n",
              "    background-color: var(--bg-color);\n",
              "    border: none;\n",
              "    border-radius: 50%;\n",
              "    cursor: pointer;\n",
              "    display: none;\n",
              "    fill: var(--fill-color);\n",
              "    height: 32px;\n",
              "    padding: 0;\n",
              "    width: 32px;\n",
              "  }\n",
              "\n",
              "  .colab-df-quickchart:hover {\n",
              "    background-color: var(--hover-bg-color);\n",
              "    box-shadow: 0 1px 2px rgba(60, 64, 67, 0.3), 0 1px 3px 1px rgba(60, 64, 67, 0.15);\n",
              "    fill: var(--button-hover-fill-color);\n",
              "  }\n",
              "\n",
              "  .colab-df-quickchart-complete:disabled,\n",
              "  .colab-df-quickchart-complete:disabled:hover {\n",
              "    background-color: var(--disabled-bg-color);\n",
              "    fill: var(--disabled-fill-color);\n",
              "    box-shadow: none;\n",
              "  }\n",
              "\n",
              "  .colab-df-spinner {\n",
              "    border: 2px solid var(--fill-color);\n",
              "    border-color: transparent;\n",
              "    border-bottom-color: var(--fill-color);\n",
              "    animation:\n",
              "      spin 1s steps(1) infinite;\n",
              "  }\n",
              "\n",
              "  @keyframes spin {\n",
              "    0% {\n",
              "      border-color: transparent;\n",
              "      border-bottom-color: var(--fill-color);\n",
              "      border-left-color: var(--fill-color);\n",
              "    }\n",
              "    20% {\n",
              "      border-color: transparent;\n",
              "      border-left-color: var(--fill-color);\n",
              "      border-top-color: var(--fill-color);\n",
              "    }\n",
              "    30% {\n",
              "      border-color: transparent;\n",
              "      border-left-color: var(--fill-color);\n",
              "      border-top-color: var(--fill-color);\n",
              "      border-right-color: var(--fill-color);\n",
              "    }\n",
              "    40% {\n",
              "      border-color: transparent;\n",
              "      border-right-color: var(--fill-color);\n",
              "      border-top-color: var(--fill-color);\n",
              "    }\n",
              "    60% {\n",
              "      border-color: transparent;\n",
              "      border-right-color: var(--fill-color);\n",
              "    }\n",
              "    80% {\n",
              "      border-color: transparent;\n",
              "      border-right-color: var(--fill-color);\n",
              "      border-bottom-color: var(--fill-color);\n",
              "    }\n",
              "    90% {\n",
              "      border-color: transparent;\n",
              "      border-bottom-color: var(--fill-color);\n",
              "    }\n",
              "  }\n",
              "</style>\n",
              "\n",
              "  <script>\n",
              "    async function quickchart(key) {\n",
              "      const quickchartButtonEl =\n",
              "        document.querySelector('#' + key + ' button');\n",
              "      quickchartButtonEl.disabled = true;  // To prevent multiple clicks.\n",
              "      quickchartButtonEl.classList.add('colab-df-spinner');\n",
              "      try {\n",
              "        const charts = await google.colab.kernel.invokeFunction(\n",
              "            'suggestCharts', [key], {});\n",
              "      } catch (error) {\n",
              "        console.error('Error during call to suggestCharts:', error);\n",
              "      }\n",
              "      quickchartButtonEl.classList.remove('colab-df-spinner');\n",
              "      quickchartButtonEl.classList.add('colab-df-quickchart-complete');\n",
              "    }\n",
              "    (() => {\n",
              "      let quickchartButtonEl =\n",
              "        document.querySelector('#df-39499947-99f8-4ce5-8a52-959796ee8468 button');\n",
              "      quickchartButtonEl.style.display =\n",
              "        google.colab.kernel.accessAllowed ? 'block' : 'none';\n",
              "    })();\n",
              "  </script>\n",
              "</div>\n",
              "\n",
              "    </div>\n",
              "  </div>\n"
            ],
            "application/vnd.google.colaboratory.intrinsic+json": {
              "type": "dataframe",
              "variable_name": "embeddings_df"
            }
          },
          "metadata": {},
          "execution_count": 38
        }
      ]
    },
    {
      "cell_type": "code",
      "source": [
        "tracks_with_embeddings.to_parquet(\"tracks_with_embeddings.parquet\", index=False)"
      ],
      "metadata": {
        "id": "g2nH2t9TsEVm"
      },
      "id": "g2nH2t9TsEVm",
      "execution_count": 40,
      "outputs": []
    },
    {
      "cell_type": "code",
      "source": [
        "tracks_with_embeddings.head()"
      ],
      "metadata": {
        "colab": {
          "base_uri": "https://localhost:8080/",
          "height": 325
        },
        "collapsed": true,
        "id": "V_XB0Q4msQCZ",
        "outputId": "2a370ef0-d89b-48a5-de4b-13b0de58ed4c"
      },
      "id": "V_XB0Q4msQCZ",
      "execution_count": 39,
      "outputs": [
        {
          "output_type": "execute_result",
          "data": {
            "text/plain": [
              "                 track_id                 artists                  track_name  \\\n",
              "0  5SuOikwiRyPMVoIQDJUgSV             Gen Hoshino                      Comedy   \n",
              "1  4qPNDBW1i3p13qLCt0Ki3A            Ben Woodward            Ghost - Acoustic   \n",
              "2  1iJBSr7s7jYXzM8EGcbK5b  Ingrid Michaelson;ZAYN              To Begin Again   \n",
              "3  6lfxq3CG4xtTiEg7opyCyx            Kina Grannis  Can't Help Falling In Love   \n",
              "4  5vjLSffimiIP26QG5WcN2K        Chord Overstreet                     Hold On   \n",
              "\n",
              "   duration_ms  danceability    energy  key  loudness  mode  speechiness  ...  \\\n",
              "0     0.024575      0.629244 -0.717148    1  0.300828     0       0.1430  ...   \n",
              "1    -0.730859     -0.845908 -1.889980    1 -1.784744     1       0.0763  ...   \n",
              "2    -0.160332     -0.742186 -1.122669    0 -0.293288     1       0.0557  ...   \n",
              "3    -0.243214     -1.733304 -2.312994    0 -2.039252     1       0.0363  ...   \n",
              "4    -0.271919      0.295030 -0.788711    2 -0.282750     1       0.0526  ...   \n",
              "\n",
              "     emb_54    emb_55    emb_56    emb_57    emb_58    emb_59    emb_60  \\\n",
              "0  0.026546  0.040854  0.000061 -0.056485 -0.331604 -0.144195 -0.101007   \n",
              "1  0.035766 -0.133507  0.289012 -0.044654 -0.406979 -0.329948 -0.211469   \n",
              "2 -0.045124  0.001100  0.106933 -0.141384 -0.384567 -0.115001 -0.090348   \n",
              "3  0.255313 -0.432985  0.330100 -0.159431  0.086129 -0.428819 -0.239598   \n",
              "4  0.109243 -0.135456 -0.046755 -0.034329 -0.177423 -0.257376 -0.107344   \n",
              "\n",
              "     emb_61    emb_62    emb_63  \n",
              "0  0.005430 -0.018791  0.058135  \n",
              "1  0.164515 -0.114954 -0.026168  \n",
              "2  0.184421 -0.078719 -0.084987  \n",
              "3  0.131262 -0.250253  0.145362  \n",
              "4  0.027321 -0.066966 -0.020128  \n",
              "\n",
              "[5 rows x 81 columns]"
            ],
            "text/html": [
              "\n",
              "  <div id=\"df-ba39c5c2-0f71-4b8f-bcf1-fb938a0b6bdc\" class=\"colab-df-container\">\n",
              "    <div>\n",
              "<style scoped>\n",
              "    .dataframe tbody tr th:only-of-type {\n",
              "        vertical-align: middle;\n",
              "    }\n",
              "\n",
              "    .dataframe tbody tr th {\n",
              "        vertical-align: top;\n",
              "    }\n",
              "\n",
              "    .dataframe thead th {\n",
              "        text-align: right;\n",
              "    }\n",
              "</style>\n",
              "<table border=\"1\" class=\"dataframe\">\n",
              "  <thead>\n",
              "    <tr style=\"text-align: right;\">\n",
              "      <th></th>\n",
              "      <th>track_id</th>\n",
              "      <th>artists</th>\n",
              "      <th>track_name</th>\n",
              "      <th>duration_ms</th>\n",
              "      <th>danceability</th>\n",
              "      <th>energy</th>\n",
              "      <th>key</th>\n",
              "      <th>loudness</th>\n",
              "      <th>mode</th>\n",
              "      <th>speechiness</th>\n",
              "      <th>...</th>\n",
              "      <th>emb_54</th>\n",
              "      <th>emb_55</th>\n",
              "      <th>emb_56</th>\n",
              "      <th>emb_57</th>\n",
              "      <th>emb_58</th>\n",
              "      <th>emb_59</th>\n",
              "      <th>emb_60</th>\n",
              "      <th>emb_61</th>\n",
              "      <th>emb_62</th>\n",
              "      <th>emb_63</th>\n",
              "    </tr>\n",
              "  </thead>\n",
              "  <tbody>\n",
              "    <tr>\n",
              "      <th>0</th>\n",
              "      <td>5SuOikwiRyPMVoIQDJUgSV</td>\n",
              "      <td>Gen Hoshino</td>\n",
              "      <td>Comedy</td>\n",
              "      <td>0.024575</td>\n",
              "      <td>0.629244</td>\n",
              "      <td>-0.717148</td>\n",
              "      <td>1</td>\n",
              "      <td>0.300828</td>\n",
              "      <td>0</td>\n",
              "      <td>0.1430</td>\n",
              "      <td>...</td>\n",
              "      <td>0.026546</td>\n",
              "      <td>0.040854</td>\n",
              "      <td>0.000061</td>\n",
              "      <td>-0.056485</td>\n",
              "      <td>-0.331604</td>\n",
              "      <td>-0.144195</td>\n",
              "      <td>-0.101007</td>\n",
              "      <td>0.005430</td>\n",
              "      <td>-0.018791</td>\n",
              "      <td>0.058135</td>\n",
              "    </tr>\n",
              "    <tr>\n",
              "      <th>1</th>\n",
              "      <td>4qPNDBW1i3p13qLCt0Ki3A</td>\n",
              "      <td>Ben Woodward</td>\n",
              "      <td>Ghost - Acoustic</td>\n",
              "      <td>-0.730859</td>\n",
              "      <td>-0.845908</td>\n",
              "      <td>-1.889980</td>\n",
              "      <td>1</td>\n",
              "      <td>-1.784744</td>\n",
              "      <td>1</td>\n",
              "      <td>0.0763</td>\n",
              "      <td>...</td>\n",
              "      <td>0.035766</td>\n",
              "      <td>-0.133507</td>\n",
              "      <td>0.289012</td>\n",
              "      <td>-0.044654</td>\n",
              "      <td>-0.406979</td>\n",
              "      <td>-0.329948</td>\n",
              "      <td>-0.211469</td>\n",
              "      <td>0.164515</td>\n",
              "      <td>-0.114954</td>\n",
              "      <td>-0.026168</td>\n",
              "    </tr>\n",
              "    <tr>\n",
              "      <th>2</th>\n",
              "      <td>1iJBSr7s7jYXzM8EGcbK5b</td>\n",
              "      <td>Ingrid Michaelson;ZAYN</td>\n",
              "      <td>To Begin Again</td>\n",
              "      <td>-0.160332</td>\n",
              "      <td>-0.742186</td>\n",
              "      <td>-1.122669</td>\n",
              "      <td>0</td>\n",
              "      <td>-0.293288</td>\n",
              "      <td>1</td>\n",
              "      <td>0.0557</td>\n",
              "      <td>...</td>\n",
              "      <td>-0.045124</td>\n",
              "      <td>0.001100</td>\n",
              "      <td>0.106933</td>\n",
              "      <td>-0.141384</td>\n",
              "      <td>-0.384567</td>\n",
              "      <td>-0.115001</td>\n",
              "      <td>-0.090348</td>\n",
              "      <td>0.184421</td>\n",
              "      <td>-0.078719</td>\n",
              "      <td>-0.084987</td>\n",
              "    </tr>\n",
              "    <tr>\n",
              "      <th>3</th>\n",
              "      <td>6lfxq3CG4xtTiEg7opyCyx</td>\n",
              "      <td>Kina Grannis</td>\n",
              "      <td>Can't Help Falling In Love</td>\n",
              "      <td>-0.243214</td>\n",
              "      <td>-1.733304</td>\n",
              "      <td>-2.312994</td>\n",
              "      <td>0</td>\n",
              "      <td>-2.039252</td>\n",
              "      <td>1</td>\n",
              "      <td>0.0363</td>\n",
              "      <td>...</td>\n",
              "      <td>0.255313</td>\n",
              "      <td>-0.432985</td>\n",
              "      <td>0.330100</td>\n",
              "      <td>-0.159431</td>\n",
              "      <td>0.086129</td>\n",
              "      <td>-0.428819</td>\n",
              "      <td>-0.239598</td>\n",
              "      <td>0.131262</td>\n",
              "      <td>-0.250253</td>\n",
              "      <td>0.145362</td>\n",
              "    </tr>\n",
              "    <tr>\n",
              "      <th>4</th>\n",
              "      <td>5vjLSffimiIP26QG5WcN2K</td>\n",
              "      <td>Chord Overstreet</td>\n",
              "      <td>Hold On</td>\n",
              "      <td>-0.271919</td>\n",
              "      <td>0.295030</td>\n",
              "      <td>-0.788711</td>\n",
              "      <td>2</td>\n",
              "      <td>-0.282750</td>\n",
              "      <td>1</td>\n",
              "      <td>0.0526</td>\n",
              "      <td>...</td>\n",
              "      <td>0.109243</td>\n",
              "      <td>-0.135456</td>\n",
              "      <td>-0.046755</td>\n",
              "      <td>-0.034329</td>\n",
              "      <td>-0.177423</td>\n",
              "      <td>-0.257376</td>\n",
              "      <td>-0.107344</td>\n",
              "      <td>0.027321</td>\n",
              "      <td>-0.066966</td>\n",
              "      <td>-0.020128</td>\n",
              "    </tr>\n",
              "  </tbody>\n",
              "</table>\n",
              "<p>5 rows × 81 columns</p>\n",
              "</div>\n",
              "    <div class=\"colab-df-buttons\">\n",
              "\n",
              "  <div class=\"colab-df-container\">\n",
              "    <button class=\"colab-df-convert\" onclick=\"convertToInteractive('df-ba39c5c2-0f71-4b8f-bcf1-fb938a0b6bdc')\"\n",
              "            title=\"Convert this dataframe to an interactive table.\"\n",
              "            style=\"display:none;\">\n",
              "\n",
              "  <svg xmlns=\"http://www.w3.org/2000/svg\" height=\"24px\" viewBox=\"0 -960 960 960\">\n",
              "    <path d=\"M120-120v-720h720v720H120Zm60-500h600v-160H180v160Zm220 220h160v-160H400v160Zm0 220h160v-160H400v160ZM180-400h160v-160H180v160Zm440 0h160v-160H620v160ZM180-180h160v-160H180v160Zm440 0h160v-160H620v160Z\"/>\n",
              "  </svg>\n",
              "    </button>\n",
              "\n",
              "  <style>\n",
              "    .colab-df-container {\n",
              "      display:flex;\n",
              "      gap: 12px;\n",
              "    }\n",
              "\n",
              "    .colab-df-convert {\n",
              "      background-color: #E8F0FE;\n",
              "      border: none;\n",
              "      border-radius: 50%;\n",
              "      cursor: pointer;\n",
              "      display: none;\n",
              "      fill: #1967D2;\n",
              "      height: 32px;\n",
              "      padding: 0 0 0 0;\n",
              "      width: 32px;\n",
              "    }\n",
              "\n",
              "    .colab-df-convert:hover {\n",
              "      background-color: #E2EBFA;\n",
              "      box-shadow: 0px 1px 2px rgba(60, 64, 67, 0.3), 0px 1px 3px 1px rgba(60, 64, 67, 0.15);\n",
              "      fill: #174EA6;\n",
              "    }\n",
              "\n",
              "    .colab-df-buttons div {\n",
              "      margin-bottom: 4px;\n",
              "    }\n",
              "\n",
              "    [theme=dark] .colab-df-convert {\n",
              "      background-color: #3B4455;\n",
              "      fill: #D2E3FC;\n",
              "    }\n",
              "\n",
              "    [theme=dark] .colab-df-convert:hover {\n",
              "      background-color: #434B5C;\n",
              "      box-shadow: 0px 1px 3px 1px rgba(0, 0, 0, 0.15);\n",
              "      filter: drop-shadow(0px 1px 2px rgba(0, 0, 0, 0.3));\n",
              "      fill: #FFFFFF;\n",
              "    }\n",
              "  </style>\n",
              "\n",
              "    <script>\n",
              "      const buttonEl =\n",
              "        document.querySelector('#df-ba39c5c2-0f71-4b8f-bcf1-fb938a0b6bdc button.colab-df-convert');\n",
              "      buttonEl.style.display =\n",
              "        google.colab.kernel.accessAllowed ? 'block' : 'none';\n",
              "\n",
              "      async function convertToInteractive(key) {\n",
              "        const element = document.querySelector('#df-ba39c5c2-0f71-4b8f-bcf1-fb938a0b6bdc');\n",
              "        const dataTable =\n",
              "          await google.colab.kernel.invokeFunction('convertToInteractive',\n",
              "                                                    [key], {});\n",
              "        if (!dataTable) return;\n",
              "\n",
              "        const docLinkHtml = 'Like what you see? Visit the ' +\n",
              "          '<a target=\"_blank\" href=https://colab.research.google.com/notebooks/data_table.ipynb>data table notebook</a>'\n",
              "          + ' to learn more about interactive tables.';\n",
              "        element.innerHTML = '';\n",
              "        dataTable['output_type'] = 'display_data';\n",
              "        await google.colab.output.renderOutput(dataTable, element);\n",
              "        const docLink = document.createElement('div');\n",
              "        docLink.innerHTML = docLinkHtml;\n",
              "        element.appendChild(docLink);\n",
              "      }\n",
              "    </script>\n",
              "  </div>\n",
              "\n",
              "\n",
              "<div id=\"df-7f195592-ceff-4dc8-8903-5d4f572936af\">\n",
              "  <button class=\"colab-df-quickchart\" onclick=\"quickchart('df-7f195592-ceff-4dc8-8903-5d4f572936af')\"\n",
              "            title=\"Suggest charts\"\n",
              "            style=\"display:none;\">\n",
              "\n",
              "<svg xmlns=\"http://www.w3.org/2000/svg\" height=\"24px\"viewBox=\"0 0 24 24\"\n",
              "     width=\"24px\">\n",
              "    <g>\n",
              "        <path d=\"M19 3H5c-1.1 0-2 .9-2 2v14c0 1.1.9 2 2 2h14c1.1 0 2-.9 2-2V5c0-1.1-.9-2-2-2zM9 17H7v-7h2v7zm4 0h-2V7h2v10zm4 0h-2v-4h2v4z\"/>\n",
              "    </g>\n",
              "</svg>\n",
              "  </button>\n",
              "\n",
              "<style>\n",
              "  .colab-df-quickchart {\n",
              "      --bg-color: #E8F0FE;\n",
              "      --fill-color: #1967D2;\n",
              "      --hover-bg-color: #E2EBFA;\n",
              "      --hover-fill-color: #174EA6;\n",
              "      --disabled-fill-color: #AAA;\n",
              "      --disabled-bg-color: #DDD;\n",
              "  }\n",
              "\n",
              "  [theme=dark] .colab-df-quickchart {\n",
              "      --bg-color: #3B4455;\n",
              "      --fill-color: #D2E3FC;\n",
              "      --hover-bg-color: #434B5C;\n",
              "      --hover-fill-color: #FFFFFF;\n",
              "      --disabled-bg-color: #3B4455;\n",
              "      --disabled-fill-color: #666;\n",
              "  }\n",
              "\n",
              "  .colab-df-quickchart {\n",
              "    background-color: var(--bg-color);\n",
              "    border: none;\n",
              "    border-radius: 50%;\n",
              "    cursor: pointer;\n",
              "    display: none;\n",
              "    fill: var(--fill-color);\n",
              "    height: 32px;\n",
              "    padding: 0;\n",
              "    width: 32px;\n",
              "  }\n",
              "\n",
              "  .colab-df-quickchart:hover {\n",
              "    background-color: var(--hover-bg-color);\n",
              "    box-shadow: 0 1px 2px rgba(60, 64, 67, 0.3), 0 1px 3px 1px rgba(60, 64, 67, 0.15);\n",
              "    fill: var(--button-hover-fill-color);\n",
              "  }\n",
              "\n",
              "  .colab-df-quickchart-complete:disabled,\n",
              "  .colab-df-quickchart-complete:disabled:hover {\n",
              "    background-color: var(--disabled-bg-color);\n",
              "    fill: var(--disabled-fill-color);\n",
              "    box-shadow: none;\n",
              "  }\n",
              "\n",
              "  .colab-df-spinner {\n",
              "    border: 2px solid var(--fill-color);\n",
              "    border-color: transparent;\n",
              "    border-bottom-color: var(--fill-color);\n",
              "    animation:\n",
              "      spin 1s steps(1) infinite;\n",
              "  }\n",
              "\n",
              "  @keyframes spin {\n",
              "    0% {\n",
              "      border-color: transparent;\n",
              "      border-bottom-color: var(--fill-color);\n",
              "      border-left-color: var(--fill-color);\n",
              "    }\n",
              "    20% {\n",
              "      border-color: transparent;\n",
              "      border-left-color: var(--fill-color);\n",
              "      border-top-color: var(--fill-color);\n",
              "    }\n",
              "    30% {\n",
              "      border-color: transparent;\n",
              "      border-left-color: var(--fill-color);\n",
              "      border-top-color: var(--fill-color);\n",
              "      border-right-color: var(--fill-color);\n",
              "    }\n",
              "    40% {\n",
              "      border-color: transparent;\n",
              "      border-right-color: var(--fill-color);\n",
              "      border-top-color: var(--fill-color);\n",
              "    }\n",
              "    60% {\n",
              "      border-color: transparent;\n",
              "      border-right-color: var(--fill-color);\n",
              "    }\n",
              "    80% {\n",
              "      border-color: transparent;\n",
              "      border-right-color: var(--fill-color);\n",
              "      border-bottom-color: var(--fill-color);\n",
              "    }\n",
              "    90% {\n",
              "      border-color: transparent;\n",
              "      border-bottom-color: var(--fill-color);\n",
              "    }\n",
              "  }\n",
              "</style>\n",
              "\n",
              "  <script>\n",
              "    async function quickchart(key) {\n",
              "      const quickchartButtonEl =\n",
              "        document.querySelector('#' + key + ' button');\n",
              "      quickchartButtonEl.disabled = true;  // To prevent multiple clicks.\n",
              "      quickchartButtonEl.classList.add('colab-df-spinner');\n",
              "      try {\n",
              "        const charts = await google.colab.kernel.invokeFunction(\n",
              "            'suggestCharts', [key], {});\n",
              "      } catch (error) {\n",
              "        console.error('Error during call to suggestCharts:', error);\n",
              "      }\n",
              "      quickchartButtonEl.classList.remove('colab-df-spinner');\n",
              "      quickchartButtonEl.classList.add('colab-df-quickchart-complete');\n",
              "    }\n",
              "    (() => {\n",
              "      let quickchartButtonEl =\n",
              "        document.querySelector('#df-7f195592-ceff-4dc8-8903-5d4f572936af button');\n",
              "      quickchartButtonEl.style.display =\n",
              "        google.colab.kernel.accessAllowed ? 'block' : 'none';\n",
              "    })();\n",
              "  </script>\n",
              "</div>\n",
              "\n",
              "    </div>\n",
              "  </div>\n"
            ],
            "application/vnd.google.colaboratory.intrinsic+json": {
              "type": "dataframe",
              "variable_name": "tracks_with_embeddings"
            }
          },
          "metadata": {},
          "execution_count": 39
        }
      ]
    },
    {
      "cell_type": "code",
      "source": [
        "# Now we have the final dataset with the embeddings, what we have to do now is to get all the liked songs of the user from the web app as input, then get the dataframe of all the available songs out of those songs in the database, filter out those songs which don't match the current mood of the user and give the list of all the remaining songs in the dataset as the set 1\n"
      ],
      "metadata": {
        "id": "lP_vf2W9sYOn"
      },
      "id": "lP_vf2W9sYOn",
      "execution_count": null,
      "outputs": []
    },
    {
      "cell_type": "code",
      "source": [
        "df = pd.read_parquet(\"tracks_with_embeddings.parquet\")"
      ],
      "metadata": {
        "id": "oCfYNbckt0lQ"
      },
      "id": "oCfYNbckt0lQ",
      "execution_count": 41,
      "outputs": []
    },
    {
      "cell_type": "code",
      "source": [
        "df.head()"
      ],
      "metadata": {
        "colab": {
          "base_uri": "https://localhost:8080/",
          "height": 325
        },
        "id": "wSrM9Ja-AvND",
        "outputId": "8ab290d4-0009-4826-8f4e-8b81641c3c44"
      },
      "id": "wSrM9Ja-AvND",
      "execution_count": 42,
      "outputs": [
        {
          "output_type": "execute_result",
          "data": {
            "text/plain": [
              "                 track_id                 artists                  track_name  \\\n",
              "0  5SuOikwiRyPMVoIQDJUgSV             Gen Hoshino                      Comedy   \n",
              "1  4qPNDBW1i3p13qLCt0Ki3A            Ben Woodward            Ghost - Acoustic   \n",
              "2  1iJBSr7s7jYXzM8EGcbK5b  Ingrid Michaelson;ZAYN              To Begin Again   \n",
              "3  6lfxq3CG4xtTiEg7opyCyx            Kina Grannis  Can't Help Falling In Love   \n",
              "4  5vjLSffimiIP26QG5WcN2K        Chord Overstreet                     Hold On   \n",
              "\n",
              "   duration_ms  danceability    energy  key  loudness  mode  speechiness  ...  \\\n",
              "0     0.024575      0.629244 -0.717148    1  0.300828     0       0.1430  ...   \n",
              "1    -0.730859     -0.845908 -1.889980    1 -1.784744     1       0.0763  ...   \n",
              "2    -0.160332     -0.742186 -1.122669    0 -0.293288     1       0.0557  ...   \n",
              "3    -0.243214     -1.733304 -2.312994    0 -2.039252     1       0.0363  ...   \n",
              "4    -0.271919      0.295030 -0.788711    2 -0.282750     1       0.0526  ...   \n",
              "\n",
              "     emb_54    emb_55    emb_56    emb_57    emb_58    emb_59    emb_60  \\\n",
              "0  0.026546  0.040854  0.000061 -0.056485 -0.331604 -0.144195 -0.101007   \n",
              "1  0.035766 -0.133507  0.289012 -0.044654 -0.406979 -0.329948 -0.211469   \n",
              "2 -0.045124  0.001100  0.106933 -0.141384 -0.384567 -0.115001 -0.090348   \n",
              "3  0.255313 -0.432985  0.330100 -0.159431  0.086129 -0.428819 -0.239598   \n",
              "4  0.109243 -0.135456 -0.046755 -0.034329 -0.177423 -0.257376 -0.107344   \n",
              "\n",
              "     emb_61    emb_62    emb_63  \n",
              "0  0.005430 -0.018791  0.058135  \n",
              "1  0.164515 -0.114954 -0.026168  \n",
              "2  0.184421 -0.078719 -0.084987  \n",
              "3  0.131262 -0.250253  0.145362  \n",
              "4  0.027321 -0.066966 -0.020128  \n",
              "\n",
              "[5 rows x 81 columns]"
            ],
            "text/html": [
              "\n",
              "  <div id=\"df-0037fec1-8d75-45a7-9d88-11e7a8ac6b8d\" class=\"colab-df-container\">\n",
              "    <div>\n",
              "<style scoped>\n",
              "    .dataframe tbody tr th:only-of-type {\n",
              "        vertical-align: middle;\n",
              "    }\n",
              "\n",
              "    .dataframe tbody tr th {\n",
              "        vertical-align: top;\n",
              "    }\n",
              "\n",
              "    .dataframe thead th {\n",
              "        text-align: right;\n",
              "    }\n",
              "</style>\n",
              "<table border=\"1\" class=\"dataframe\">\n",
              "  <thead>\n",
              "    <tr style=\"text-align: right;\">\n",
              "      <th></th>\n",
              "      <th>track_id</th>\n",
              "      <th>artists</th>\n",
              "      <th>track_name</th>\n",
              "      <th>duration_ms</th>\n",
              "      <th>danceability</th>\n",
              "      <th>energy</th>\n",
              "      <th>key</th>\n",
              "      <th>loudness</th>\n",
              "      <th>mode</th>\n",
              "      <th>speechiness</th>\n",
              "      <th>...</th>\n",
              "      <th>emb_54</th>\n",
              "      <th>emb_55</th>\n",
              "      <th>emb_56</th>\n",
              "      <th>emb_57</th>\n",
              "      <th>emb_58</th>\n",
              "      <th>emb_59</th>\n",
              "      <th>emb_60</th>\n",
              "      <th>emb_61</th>\n",
              "      <th>emb_62</th>\n",
              "      <th>emb_63</th>\n",
              "    </tr>\n",
              "  </thead>\n",
              "  <tbody>\n",
              "    <tr>\n",
              "      <th>0</th>\n",
              "      <td>5SuOikwiRyPMVoIQDJUgSV</td>\n",
              "      <td>Gen Hoshino</td>\n",
              "      <td>Comedy</td>\n",
              "      <td>0.024575</td>\n",
              "      <td>0.629244</td>\n",
              "      <td>-0.717148</td>\n",
              "      <td>1</td>\n",
              "      <td>0.300828</td>\n",
              "      <td>0</td>\n",
              "      <td>0.1430</td>\n",
              "      <td>...</td>\n",
              "      <td>0.026546</td>\n",
              "      <td>0.040854</td>\n",
              "      <td>0.000061</td>\n",
              "      <td>-0.056485</td>\n",
              "      <td>-0.331604</td>\n",
              "      <td>-0.144195</td>\n",
              "      <td>-0.101007</td>\n",
              "      <td>0.005430</td>\n",
              "      <td>-0.018791</td>\n",
              "      <td>0.058135</td>\n",
              "    </tr>\n",
              "    <tr>\n",
              "      <th>1</th>\n",
              "      <td>4qPNDBW1i3p13qLCt0Ki3A</td>\n",
              "      <td>Ben Woodward</td>\n",
              "      <td>Ghost - Acoustic</td>\n",
              "      <td>-0.730859</td>\n",
              "      <td>-0.845908</td>\n",
              "      <td>-1.889980</td>\n",
              "      <td>1</td>\n",
              "      <td>-1.784744</td>\n",
              "      <td>1</td>\n",
              "      <td>0.0763</td>\n",
              "      <td>...</td>\n",
              "      <td>0.035766</td>\n",
              "      <td>-0.133507</td>\n",
              "      <td>0.289012</td>\n",
              "      <td>-0.044654</td>\n",
              "      <td>-0.406979</td>\n",
              "      <td>-0.329948</td>\n",
              "      <td>-0.211469</td>\n",
              "      <td>0.164515</td>\n",
              "      <td>-0.114954</td>\n",
              "      <td>-0.026168</td>\n",
              "    </tr>\n",
              "    <tr>\n",
              "      <th>2</th>\n",
              "      <td>1iJBSr7s7jYXzM8EGcbK5b</td>\n",
              "      <td>Ingrid Michaelson;ZAYN</td>\n",
              "      <td>To Begin Again</td>\n",
              "      <td>-0.160332</td>\n",
              "      <td>-0.742186</td>\n",
              "      <td>-1.122669</td>\n",
              "      <td>0</td>\n",
              "      <td>-0.293288</td>\n",
              "      <td>1</td>\n",
              "      <td>0.0557</td>\n",
              "      <td>...</td>\n",
              "      <td>-0.045124</td>\n",
              "      <td>0.001100</td>\n",
              "      <td>0.106933</td>\n",
              "      <td>-0.141384</td>\n",
              "      <td>-0.384567</td>\n",
              "      <td>-0.115001</td>\n",
              "      <td>-0.090348</td>\n",
              "      <td>0.184421</td>\n",
              "      <td>-0.078719</td>\n",
              "      <td>-0.084987</td>\n",
              "    </tr>\n",
              "    <tr>\n",
              "      <th>3</th>\n",
              "      <td>6lfxq3CG4xtTiEg7opyCyx</td>\n",
              "      <td>Kina Grannis</td>\n",
              "      <td>Can't Help Falling In Love</td>\n",
              "      <td>-0.243214</td>\n",
              "      <td>-1.733304</td>\n",
              "      <td>-2.312994</td>\n",
              "      <td>0</td>\n",
              "      <td>-2.039252</td>\n",
              "      <td>1</td>\n",
              "      <td>0.0363</td>\n",
              "      <td>...</td>\n",
              "      <td>0.255313</td>\n",
              "      <td>-0.432985</td>\n",
              "      <td>0.330100</td>\n",
              "      <td>-0.159431</td>\n",
              "      <td>0.086129</td>\n",
              "      <td>-0.428819</td>\n",
              "      <td>-0.239598</td>\n",
              "      <td>0.131262</td>\n",
              "      <td>-0.250253</td>\n",
              "      <td>0.145362</td>\n",
              "    </tr>\n",
              "    <tr>\n",
              "      <th>4</th>\n",
              "      <td>5vjLSffimiIP26QG5WcN2K</td>\n",
              "      <td>Chord Overstreet</td>\n",
              "      <td>Hold On</td>\n",
              "      <td>-0.271919</td>\n",
              "      <td>0.295030</td>\n",
              "      <td>-0.788711</td>\n",
              "      <td>2</td>\n",
              "      <td>-0.282750</td>\n",
              "      <td>1</td>\n",
              "      <td>0.0526</td>\n",
              "      <td>...</td>\n",
              "      <td>0.109243</td>\n",
              "      <td>-0.135456</td>\n",
              "      <td>-0.046755</td>\n",
              "      <td>-0.034329</td>\n",
              "      <td>-0.177423</td>\n",
              "      <td>-0.257376</td>\n",
              "      <td>-0.107344</td>\n",
              "      <td>0.027321</td>\n",
              "      <td>-0.066966</td>\n",
              "      <td>-0.020128</td>\n",
              "    </tr>\n",
              "  </tbody>\n",
              "</table>\n",
              "<p>5 rows × 81 columns</p>\n",
              "</div>\n",
              "    <div class=\"colab-df-buttons\">\n",
              "\n",
              "  <div class=\"colab-df-container\">\n",
              "    <button class=\"colab-df-convert\" onclick=\"convertToInteractive('df-0037fec1-8d75-45a7-9d88-11e7a8ac6b8d')\"\n",
              "            title=\"Convert this dataframe to an interactive table.\"\n",
              "            style=\"display:none;\">\n",
              "\n",
              "  <svg xmlns=\"http://www.w3.org/2000/svg\" height=\"24px\" viewBox=\"0 -960 960 960\">\n",
              "    <path d=\"M120-120v-720h720v720H120Zm60-500h600v-160H180v160Zm220 220h160v-160H400v160Zm0 220h160v-160H400v160ZM180-400h160v-160H180v160Zm440 0h160v-160H620v160ZM180-180h160v-160H180v160Zm440 0h160v-160H620v160Z\"/>\n",
              "  </svg>\n",
              "    </button>\n",
              "\n",
              "  <style>\n",
              "    .colab-df-container {\n",
              "      display:flex;\n",
              "      gap: 12px;\n",
              "    }\n",
              "\n",
              "    .colab-df-convert {\n",
              "      background-color: #E8F0FE;\n",
              "      border: none;\n",
              "      border-radius: 50%;\n",
              "      cursor: pointer;\n",
              "      display: none;\n",
              "      fill: #1967D2;\n",
              "      height: 32px;\n",
              "      padding: 0 0 0 0;\n",
              "      width: 32px;\n",
              "    }\n",
              "\n",
              "    .colab-df-convert:hover {\n",
              "      background-color: #E2EBFA;\n",
              "      box-shadow: 0px 1px 2px rgba(60, 64, 67, 0.3), 0px 1px 3px 1px rgba(60, 64, 67, 0.15);\n",
              "      fill: #174EA6;\n",
              "    }\n",
              "\n",
              "    .colab-df-buttons div {\n",
              "      margin-bottom: 4px;\n",
              "    }\n",
              "\n",
              "    [theme=dark] .colab-df-convert {\n",
              "      background-color: #3B4455;\n",
              "      fill: #D2E3FC;\n",
              "    }\n",
              "\n",
              "    [theme=dark] .colab-df-convert:hover {\n",
              "      background-color: #434B5C;\n",
              "      box-shadow: 0px 1px 3px 1px rgba(0, 0, 0, 0.15);\n",
              "      filter: drop-shadow(0px 1px 2px rgba(0, 0, 0, 0.3));\n",
              "      fill: #FFFFFF;\n",
              "    }\n",
              "  </style>\n",
              "\n",
              "    <script>\n",
              "      const buttonEl =\n",
              "        document.querySelector('#df-0037fec1-8d75-45a7-9d88-11e7a8ac6b8d button.colab-df-convert');\n",
              "      buttonEl.style.display =\n",
              "        google.colab.kernel.accessAllowed ? 'block' : 'none';\n",
              "\n",
              "      async function convertToInteractive(key) {\n",
              "        const element = document.querySelector('#df-0037fec1-8d75-45a7-9d88-11e7a8ac6b8d');\n",
              "        const dataTable =\n",
              "          await google.colab.kernel.invokeFunction('convertToInteractive',\n",
              "                                                    [key], {});\n",
              "        if (!dataTable) return;\n",
              "\n",
              "        const docLinkHtml = 'Like what you see? Visit the ' +\n",
              "          '<a target=\"_blank\" href=https://colab.research.google.com/notebooks/data_table.ipynb>data table notebook</a>'\n",
              "          + ' to learn more about interactive tables.';\n",
              "        element.innerHTML = '';\n",
              "        dataTable['output_type'] = 'display_data';\n",
              "        await google.colab.output.renderOutput(dataTable, element);\n",
              "        const docLink = document.createElement('div');\n",
              "        docLink.innerHTML = docLinkHtml;\n",
              "        element.appendChild(docLink);\n",
              "      }\n",
              "    </script>\n",
              "  </div>\n",
              "\n",
              "\n",
              "<div id=\"df-5d62cdbb-c4e8-40fc-b053-1a4ffcc4180f\">\n",
              "  <button class=\"colab-df-quickchart\" onclick=\"quickchart('df-5d62cdbb-c4e8-40fc-b053-1a4ffcc4180f')\"\n",
              "            title=\"Suggest charts\"\n",
              "            style=\"display:none;\">\n",
              "\n",
              "<svg xmlns=\"http://www.w3.org/2000/svg\" height=\"24px\"viewBox=\"0 0 24 24\"\n",
              "     width=\"24px\">\n",
              "    <g>\n",
              "        <path d=\"M19 3H5c-1.1 0-2 .9-2 2v14c0 1.1.9 2 2 2h14c1.1 0 2-.9 2-2V5c0-1.1-.9-2-2-2zM9 17H7v-7h2v7zm4 0h-2V7h2v10zm4 0h-2v-4h2v4z\"/>\n",
              "    </g>\n",
              "</svg>\n",
              "  </button>\n",
              "\n",
              "<style>\n",
              "  .colab-df-quickchart {\n",
              "      --bg-color: #E8F0FE;\n",
              "      --fill-color: #1967D2;\n",
              "      --hover-bg-color: #E2EBFA;\n",
              "      --hover-fill-color: #174EA6;\n",
              "      --disabled-fill-color: #AAA;\n",
              "      --disabled-bg-color: #DDD;\n",
              "  }\n",
              "\n",
              "  [theme=dark] .colab-df-quickchart {\n",
              "      --bg-color: #3B4455;\n",
              "      --fill-color: #D2E3FC;\n",
              "      --hover-bg-color: #434B5C;\n",
              "      --hover-fill-color: #FFFFFF;\n",
              "      --disabled-bg-color: #3B4455;\n",
              "      --disabled-fill-color: #666;\n",
              "  }\n",
              "\n",
              "  .colab-df-quickchart {\n",
              "    background-color: var(--bg-color);\n",
              "    border: none;\n",
              "    border-radius: 50%;\n",
              "    cursor: pointer;\n",
              "    display: none;\n",
              "    fill: var(--fill-color);\n",
              "    height: 32px;\n",
              "    padding: 0;\n",
              "    width: 32px;\n",
              "  }\n",
              "\n",
              "  .colab-df-quickchart:hover {\n",
              "    background-color: var(--hover-bg-color);\n",
              "    box-shadow: 0 1px 2px rgba(60, 64, 67, 0.3), 0 1px 3px 1px rgba(60, 64, 67, 0.15);\n",
              "    fill: var(--button-hover-fill-color);\n",
              "  }\n",
              "\n",
              "  .colab-df-quickchart-complete:disabled,\n",
              "  .colab-df-quickchart-complete:disabled:hover {\n",
              "    background-color: var(--disabled-bg-color);\n",
              "    fill: var(--disabled-fill-color);\n",
              "    box-shadow: none;\n",
              "  }\n",
              "\n",
              "  .colab-df-spinner {\n",
              "    border: 2px solid var(--fill-color);\n",
              "    border-color: transparent;\n",
              "    border-bottom-color: var(--fill-color);\n",
              "    animation:\n",
              "      spin 1s steps(1) infinite;\n",
              "  }\n",
              "\n",
              "  @keyframes spin {\n",
              "    0% {\n",
              "      border-color: transparent;\n",
              "      border-bottom-color: var(--fill-color);\n",
              "      border-left-color: var(--fill-color);\n",
              "    }\n",
              "    20% {\n",
              "      border-color: transparent;\n",
              "      border-left-color: var(--fill-color);\n",
              "      border-top-color: var(--fill-color);\n",
              "    }\n",
              "    30% {\n",
              "      border-color: transparent;\n",
              "      border-left-color: var(--fill-color);\n",
              "      border-top-color: var(--fill-color);\n",
              "      border-right-color: var(--fill-color);\n",
              "    }\n",
              "    40% {\n",
              "      border-color: transparent;\n",
              "      border-right-color: var(--fill-color);\n",
              "      border-top-color: var(--fill-color);\n",
              "    }\n",
              "    60% {\n",
              "      border-color: transparent;\n",
              "      border-right-color: var(--fill-color);\n",
              "    }\n",
              "    80% {\n",
              "      border-color: transparent;\n",
              "      border-right-color: var(--fill-color);\n",
              "      border-bottom-color: var(--fill-color);\n",
              "    }\n",
              "    90% {\n",
              "      border-color: transparent;\n",
              "      border-bottom-color: var(--fill-color);\n",
              "    }\n",
              "  }\n",
              "</style>\n",
              "\n",
              "  <script>\n",
              "    async function quickchart(key) {\n",
              "      const quickchartButtonEl =\n",
              "        document.querySelector('#' + key + ' button');\n",
              "      quickchartButtonEl.disabled = true;  // To prevent multiple clicks.\n",
              "      quickchartButtonEl.classList.add('colab-df-spinner');\n",
              "      try {\n",
              "        const charts = await google.colab.kernel.invokeFunction(\n",
              "            'suggestCharts', [key], {});\n",
              "      } catch (error) {\n",
              "        console.error('Error during call to suggestCharts:', error);\n",
              "      }\n",
              "      quickchartButtonEl.classList.remove('colab-df-spinner');\n",
              "      quickchartButtonEl.classList.add('colab-df-quickchart-complete');\n",
              "    }\n",
              "    (() => {\n",
              "      let quickchartButtonEl =\n",
              "        document.querySelector('#df-5d62cdbb-c4e8-40fc-b053-1a4ffcc4180f button');\n",
              "      quickchartButtonEl.style.display =\n",
              "        google.colab.kernel.accessAllowed ? 'block' : 'none';\n",
              "    })();\n",
              "  </script>\n",
              "</div>\n",
              "\n",
              "    </div>\n",
              "  </div>\n"
            ],
            "application/vnd.google.colaboratory.intrinsic+json": {
              "type": "dataframe",
              "variable_name": "df"
            }
          },
          "metadata": {},
          "execution_count": 42
        }
      ]
    },
    {
      "cell_type": "code",
      "source": [
        "target_track_id = \"4km0RUkMMFdx8iDuq36o2w\"\n",
        "matching_tracks = tracks_with_embeddings[tracks_with_embeddings['track_id'] == target_track_id]\n",
        "print(matching_tracks)"
      ],
      "metadata": {
        "colab": {
          "base_uri": "https://localhost:8080/"
        },
        "id": "0bDu298hAw_F",
        "outputId": "817d60b5-a6dc-4906-f314-48277935fb1a"
      },
      "id": "0bDu298hAw_F",
      "execution_count": 28,
      "outputs": [
        {
          "output_type": "stream",
          "name": "stdout",
          "text": [
            "                     track_id                           artists   track_name  \\\n",
            "55114  4km0RUkMMFdx8iDuq36o2w  Pritam;Arijit Singh;Antara Mitra  Janam Janam   \n",
            "\n",
            "       duration_ms  danceability    energy   key  loudness  mode  speechiness  \\\n",
            "55114     0.091958     -1.531623 -0.240064  11.0  0.185902   0.0       0.0422   \n",
            "\n",
            "       ...  emb_54  emb_55  emb_56  emb_57  emb_58  emb_59 emb_60  emb_61  \\\n",
            "55114  ...     NaN     NaN     NaN     NaN     NaN     NaN    NaN     NaN   \n",
            "\n",
            "       emb_62  emb_63  \n",
            "55114     NaN     NaN  \n",
            "\n",
            "[1 rows x 81 columns]\n"
          ]
        }
      ]
    },
    {
      "cell_type": "code",
      "source": [],
      "metadata": {
        "id": "jrGaJ33wA9Nn"
      },
      "id": "jrGaJ33wA9Nn",
      "execution_count": null,
      "outputs": []
    }
  ],
  "metadata": {
    "kernelspec": {
      "display_name": "Python 3 (ipykernel)",
      "language": "python",
      "name": "python3"
    },
    "language_info": {
      "codemirror_mode": {
        "name": "ipython",
        "version": 3
      },
      "file_extension": ".py",
      "mimetype": "text/x-python",
      "name": "python",
      "nbconvert_exporter": "python",
      "pygments_lexer": "ipython3",
      "version": "3.12.5"
    },
    "colab": {
      "provenance": [],
      "toc_visible": true
    }
  },
  "nbformat": 4,
  "nbformat_minor": 5
}